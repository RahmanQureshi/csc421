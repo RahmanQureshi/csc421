{
  "nbformat": 4,
  "nbformat_minor": 0,
  "metadata": {
    "colab": {
      "name": "nmt.ipynb",
      "version": "0.3.2",
      "provenance": [],
      "collapsed_sections": [],
      "toc_visible": true
    },
    "kernelspec": {
      "name": "python2",
      "display_name": "Python 2"
    },
    "accelerator": "GPU"
  },
  "cells": [
    {
      "cell_type": "markdown",
      "metadata": {
        "id": "TjPTaRB4mpCd",
        "colab_type": "text"
      },
      "source": [
        "# Colab FAQ\n",
        "\n",
        "For some basic overview and features offered in Colab notebooks, check out: [Overview of Colaboratory Features](https://colab.research.google.com/notebooks/basic_features_overview.ipynb)\n",
        "\n",
        "You need to use the colab GPU for this assignmentby selecting:\n",
        "\n",
        "> **Runtime**   →   **Change runtime type**   →   **Hardware Accelerator: GPU**"
      ]
    },
    {
      "cell_type": "markdown",
      "metadata": {
        "id": "s9IS9B9-yUU5",
        "colab_type": "text"
      },
      "source": [
        "## Setup PyTorch\n",
        "All files are stored at /content/csc421/a3/ folder\n"
      ]
    },
    {
      "cell_type": "code",
      "metadata": {
        "id": "Z-6MQhMOlHXD",
        "colab_type": "code",
        "outputId": "9dbf3feb-5763-42b5-b5d2-2533895e1509",
        "colab": {
          "base_uri": "https://localhost:8080/",
          "height": 632
        }
      },
      "source": [
        "######################################################################\n",
        "# Setup python environment and change the current working directory\n",
        "######################################################################\n",
        "!pip install torch torchvision\n",
        "!pip install Pillow==4.0.0\n",
        "%mkdir -p /content/csc421/a3/\n",
        "%cd /content/csc421/a3"
      ],
      "execution_count": 1,
      "outputs": [
        {
          "output_type": "stream",
          "text": [
            "Requirement already satisfied: torch in /usr/local/lib/python2.7/dist-packages (1.1.0)\n",
            "Requirement already satisfied: torchvision in /usr/local/lib/python2.7/dist-packages (0.3.0)\n",
            "Requirement already satisfied: future in /usr/local/lib/python2.7/dist-packages (from torch) (0.16.0)\n",
            "Requirement already satisfied: numpy in /usr/local/lib/python2.7/dist-packages (from torch) (1.16.4)\n",
            "Requirement already satisfied: six in /usr/local/lib/python2.7/dist-packages (from torchvision) (1.12.0)\n",
            "Collecting pillow>=4.1.1 (from torchvision)\n",
            "  Using cached https://files.pythonhosted.org/packages/b6/4b/5adc1109908266554fb978154c797c7d71aba43dd15508d8c1565648f6bc/Pillow-6.0.0-cp27-cp27mu-manylinux1_x86_64.whl\n",
            "\u001b[31mERROR: fastai 0.7.0 has requirement torch<0.4, but you'll have torch 1.1.0 which is incompatible.\u001b[0m\n",
            "Installing collected packages: pillow\n",
            "  Found existing installation: Pillow 4.0.0\n",
            "    Uninstalling Pillow-4.0.0:\n",
            "      Successfully uninstalled Pillow-4.0.0\n",
            "Successfully installed pillow-6.0.0\n"
          ],
          "name": "stdout"
        },
        {
          "output_type": "display_data",
          "data": {
            "application/vnd.colab-display-data+json": {
              "pip_warning": {
                "packages": [
                  "PIL"
                ]
              }
            }
          },
          "metadata": {
            "tags": []
          }
        },
        {
          "output_type": "stream",
          "text": [
            "Collecting Pillow==4.0.0\n",
            "  Using cached https://files.pythonhosted.org/packages/89/99/0e3522a9764fe371bf9f7729404b1ef7d9c4fc49cbe5f1761c6e07812345/Pillow-4.0.0-cp27-cp27mu-manylinux1_x86_64.whl\n",
            "Requirement already satisfied: olefile in /usr/local/lib/python2.7/dist-packages (from Pillow==4.0.0) (0.46)\n",
            "\u001b[31mERROR: fastai 0.7.0 has requirement torch<0.4, but you'll have torch 1.1.0 which is incompatible.\u001b[0m\n",
            "\u001b[31mERROR: scikit-image 0.14.2 has requirement pillow>=4.3.0, but you'll have pillow 4.0.0 which is incompatible.\u001b[0m\n",
            "\u001b[31mERROR: torchvision 0.3.0 has requirement pillow>=4.1.1, but you'll have pillow 4.0.0 which is incompatible.\u001b[0m\n",
            "Installing collected packages: Pillow\n",
            "  Found existing installation: Pillow 6.0.0\n",
            "    Uninstalling Pillow-6.0.0:\n",
            "      Successfully uninstalled Pillow-6.0.0\n",
            "Successfully installed Pillow-4.0.0\n"
          ],
          "name": "stdout"
        },
        {
          "output_type": "display_data",
          "data": {
            "application/vnd.colab-display-data+json": {
              "pip_warning": {
                "packages": [
                  "PIL"
                ]
              }
            }
          },
          "metadata": {
            "tags": []
          }
        },
        {
          "output_type": "stream",
          "text": [
            "/content/csc421/a3\n"
          ],
          "name": "stdout"
        }
      ]
    },
    {
      "cell_type": "markdown",
      "metadata": {
        "id": "9DaTdRNuUra7",
        "colab_type": "text"
      },
      "source": [
        "# Helper code"
      ]
    },
    {
      "cell_type": "markdown",
      "metadata": {
        "id": "4BIpGwANoQOg",
        "colab_type": "text"
      },
      "source": [
        "## Utility functions"
      ]
    },
    {
      "cell_type": "code",
      "metadata": {
        "id": "D-UJHBYZkh7f",
        "colab_type": "code",
        "colab": {}
      },
      "source": [
        "import os\n",
        "import pdb\n",
        "import argparse\n",
        "import pickle as pkl\n",
        "\n",
        "from collections import defaultdict\n",
        "\n",
        "import numpy as np\n",
        "import matplotlib as mpl\n",
        "import matplotlib.pyplot as plt\n",
        "import matplotlib.ticker as ticker\n",
        "\n",
        "import torch\n",
        "import torch.nn as nn\n",
        "import torch.optim as optim\n",
        "import torch.nn.functional as F\n",
        "from torch.autograd import Variable\n",
        "\n",
        "from six.moves.urllib.request import urlretrieve\n",
        "import tarfile\n",
        "import pickle\n",
        "import sys\n",
        "\n",
        "\n",
        "def get_file(fname,\n",
        "             origin,\n",
        "             untar=False,\n",
        "             extract=False,\n",
        "             archive_format='auto',\n",
        "             cache_dir='data'):\n",
        "    datadir = os.path.join(cache_dir)\n",
        "    if not os.path.exists(datadir):\n",
        "        os.makedirs(datadir)\n",
        "\n",
        "    if untar:\n",
        "        untar_fpath = os.path.join(datadir, fname)\n",
        "        fpath = untar_fpath + '.tar.gz'\n",
        "    else:\n",
        "        fpath = os.path.join(datadir, fname)\n",
        "    \n",
        "    print(fpath)\n",
        "    if not os.path.exists(fpath):\n",
        "        print('Downloading data from', origin)\n",
        "\n",
        "        error_msg = 'URL fetch failure on {}: {} -- {}'\n",
        "        try:\n",
        "            try:\n",
        "                urlretrieve(origin, fpath)\n",
        "            except URLError as e:\n",
        "                raise Exception(error_msg.format(origin, e.errno, e.reason))\n",
        "            except HTTPError as e:\n",
        "                raise Exception(error_msg.format(origin, e.code, e.msg))\n",
        "        except (Exception, KeyboardInterrupt) as e:\n",
        "            if os.path.exists(fpath):\n",
        "                os.remove(fpath)\n",
        "            raise\n",
        "\n",
        "    if untar:\n",
        "        if not os.path.exists(untar_fpath):\n",
        "            print('Extracting file.')\n",
        "            with tarfile.open(fpath) as archive:\n",
        "                archive.extractall(datadir)\n",
        "        return untar_fpath\n",
        "\n",
        "    if extract:\n",
        "        _extract_archive(fpath, datadir, archive_format)\n",
        "\n",
        "    return fpath\n",
        "\n",
        "class AttrDict(dict):\n",
        "    def __init__(self, *args, **kwargs):\n",
        "        super(AttrDict, self).__init__(*args, **kwargs)\n",
        "        self.__dict__ = self\n",
        "        \n",
        "def to_var(tensor, cuda):\n",
        "    \"\"\"Wraps a Tensor in a Variable, optionally placing it on the GPU.\n",
        "\n",
        "        Arguments:\n",
        "            tensor: A Tensor object.\n",
        "            cuda: A boolean flag indicating whether to use the GPU.\n",
        "\n",
        "        Returns:\n",
        "            A Variable object, on the GPU if cuda==True.\n",
        "    \"\"\"\n",
        "    if cuda:\n",
        "        return Variable(tensor.cuda())\n",
        "    else:\n",
        "        return Variable(tensor)\n",
        "\n",
        "\n",
        "def create_dir_if_not_exists(directory):\n",
        "    \"\"\"Creates a directory if it doesn't already exist.\n",
        "    \"\"\"\n",
        "    if not os.path.exists(directory):\n",
        "        os.makedirs(directory)\n",
        "\n",
        "\n",
        "def save_loss_plot(train_losses, val_losses, opts):\n",
        "    \"\"\"Saves a plot of the training and validation loss curves.\n",
        "    \"\"\"\n",
        "    plt.figure()\n",
        "    plt.plot(range(len(train_losses)), train_losses)\n",
        "    plt.plot(range(len(val_losses)), val_losses)\n",
        "    plt.title('BS={}, nhid={}'.format(opts.batch_size, opts.hidden_size), fontsize=20)\n",
        "    plt.xlabel('Epochs', fontsize=16)\n",
        "    plt.ylabel('Loss', fontsize=16)\n",
        "    plt.xticks(fontsize=14)\n",
        "    plt.yticks(fontsize=14)\n",
        "    plt.tight_layout()\n",
        "    plt.savefig(os.path.join(opts.checkpoint_path, 'loss_plot.pdf'))\n",
        "    plt.close()\n",
        "\n",
        "\n",
        "def checkpoint(encoder, decoder, idx_dict, opts):\n",
        "    \"\"\"Saves the current encoder and decoder models, along with idx_dict, which\n",
        "    contains the char_to_index and index_to_char mappings, and the start_token\n",
        "    and end_token values.\n",
        "    \"\"\"\n",
        "    with open(os.path.join(opts.checkpoint_path, 'encoder.pt'), 'wb') as f:\n",
        "        torch.save(encoder, f)\n",
        "\n",
        "    with open(os.path.join(opts.checkpoint_path, 'decoder.pt'), 'wb') as f:\n",
        "        torch.save(decoder, f)\n",
        "\n",
        "    with open(os.path.join(opts.checkpoint_path, 'idx_dict.pkl'), 'wb') as f:\n",
        "        pkl.dump(idx_dict, f)\n"
      ],
      "execution_count": 0,
      "outputs": []
    },
    {
      "cell_type": "markdown",
      "metadata": {
        "id": "pbvpn4MaV0I1",
        "colab_type": "text"
      },
      "source": [
        "## Data loader"
      ]
    },
    {
      "cell_type": "code",
      "metadata": {
        "id": "XVT4TNTOV3Eg",
        "colab_type": "code",
        "colab": {}
      },
      "source": [
        "def read_lines(filename):\n",
        "    \"\"\"Read a file and split it into lines.\n",
        "    \"\"\"\n",
        "    lines = open(filename).read().strip().lower().split('\\n')\n",
        "    return lines\n",
        "\n",
        "\n",
        "def read_pairs(filename):\n",
        "    \"\"\"Reads lines that consist of two words, separated by a space.\n",
        "\n",
        "    Returns:\n",
        "        source_words: A list of the first word in each line of the file.\n",
        "        target_words: A list of the second word in each line of the file.\n",
        "    \"\"\"\n",
        "    lines = read_lines(filename)\n",
        "    source_words, target_words = [], []\n",
        "    for line in lines:\n",
        "        line = line.strip()\n",
        "        if line:\n",
        "            source, target = line.split()\n",
        "            source_words.append(source)\n",
        "            target_words.append(target)\n",
        "    return source_words, target_words\n",
        "\n",
        "\n",
        "def all_alpha_or_dash(s):\n",
        "    \"\"\"Helper function to check whether a string is alphabetic, allowing dashes '-'.\n",
        "    \"\"\"\n",
        "    return all(c.isalpha() or c == '-' for c in s)\n",
        "\n",
        "\n",
        "def filter_lines(lines):\n",
        "    \"\"\"Filters lines to consist of only alphabetic characters or dashes \"-\".\n",
        "    \"\"\"\n",
        "    return [line for line in lines if all_alpha_or_dash(line)]\n",
        "\n",
        "\n",
        "def load_data():\n",
        "    \"\"\"Loads (English, Pig-Latin) word pairs, and creates mappings from characters to indexes.\n",
        "    \"\"\"\n",
        "\n",
        "    source_lines, target_lines = read_pairs('data/pig_latin_data.txt')\n",
        "\n",
        "    # Filter lines\n",
        "    source_lines = filter_lines(source_lines)\n",
        "    target_lines = filter_lines(target_lines)\n",
        "\n",
        "    all_characters = set(''.join(source_lines)) | set(''.join(target_lines))\n",
        "\n",
        "    # Create a dictionary mapping each character to a unique index\n",
        "    char_to_index = { char: index for (index, char) in enumerate(sorted(list(all_characters))) }\n",
        "\n",
        "    # Add start and end tokens to the dictionary\n",
        "    start_token = len(char_to_index)\n",
        "    end_token = len(char_to_index) + 1\n",
        "    char_to_index['SOS'] = start_token\n",
        "    char_to_index['EOS'] = end_token\n",
        "\n",
        "    # Create the inverse mapping, from indexes to characters (used to decode the model's predictions)\n",
        "    index_to_char = { index: char for (char, index) in char_to_index.items() }\n",
        "\n",
        "    # Store the final size of the vocabulary\n",
        "    vocab_size = len(char_to_index)\n",
        "\n",
        "    line_pairs = list(set(zip(source_lines, target_lines)))  # Python 3\n",
        "\n",
        "    idx_dict = { 'char_to_index': char_to_index,\n",
        "                 'index_to_char': index_to_char,\n",
        "                 'start_token': start_token,\n",
        "                 'end_token': end_token }\n",
        "\n",
        "    return line_pairs, vocab_size, idx_dict\n",
        "\n",
        "\n",
        "def create_dict(pairs):\n",
        "    \"\"\"Creates a mapping { (source_length, target_length): [list of (source, target) pairs]\n",
        "    This is used to make batches: each batch consists of two parallel tensors, one containing\n",
        "    all source indexes and the other containing all corresponding target indexes.\n",
        "    Within a batch, all the source words are the same length, and all the target words are\n",
        "    the same length.\n",
        "    \"\"\"\n",
        "    unique_pairs = list(set(pairs))  # Find all unique (source, target) pairs\n",
        "\n",
        "    d = defaultdict(list)\n",
        "    for (s,t) in unique_pairs:\n",
        "        d[(len(s), len(t))].append((s,t))\n",
        "\n",
        "    return d\n"
      ],
      "execution_count": 0,
      "outputs": []
    },
    {
      "cell_type": "markdown",
      "metadata": {
        "id": "bRWfRdmVVjUl",
        "colab_type": "text"
      },
      "source": [
        "## Training and evaluation code"
      ]
    },
    {
      "cell_type": "code",
      "metadata": {
        "id": "wa5-onJhoSeM",
        "colab_type": "code",
        "colab": {}
      },
      "source": [
        "def string_to_index_list(s, char_to_index, end_token):\n",
        "    \"\"\"Converts a sentence into a list of indexes (for each character).\n",
        "    \"\"\"\n",
        "    return [char_to_index[char] for char in s] + [end_token]  # Adds the end token to each index list\n",
        "\n",
        "\n",
        "def translate_sentence(sentence, encoder, decoder, idx_dict, opts):\n",
        "    \"\"\"Translates a sentence from English to Pig-Latin, by splitting the sentence into\n",
        "    words (whitespace-separated), running the encoder-decoder model to translate each\n",
        "    word independently, and then stitching the words back together with spaces between them.\n",
        "    \"\"\"\n",
        "    if idx_dict is None:\n",
        "      line_pairs, vocab_size, idx_dict = load_data()\n",
        "    return ' '.join([translate(word, encoder, decoder, idx_dict, opts) for word in sentence.split()])\n",
        "\n",
        "\n",
        "def translate(input_string, encoder, decoder, idx_dict, opts):\n",
        "    \"\"\"Translates a given string from English to Pig-Latin.\n",
        "    \"\"\"\n",
        "\n",
        "    char_to_index = idx_dict['char_to_index']\n",
        "    index_to_char = idx_dict['index_to_char']\n",
        "    start_token = idx_dict['start_token']\n",
        "    end_token = idx_dict['end_token']\n",
        "\n",
        "    max_generated_chars = 20\n",
        "    gen_string = ''\n",
        "\n",
        "    indexes = string_to_index_list(input_string, char_to_index, end_token)\n",
        "    indexes = to_var(torch.LongTensor(indexes).unsqueeze(0), opts.cuda)  # Unsqueeze to make it like BS = 1\n",
        "\n",
        "    encoder_annotations, encoder_last_hidden = encoder(indexes)\n",
        "\n",
        "    decoder_hidden = encoder_last_hidden\n",
        "    decoder_input = to_var(torch.LongTensor([[start_token]]), opts.cuda)  # For BS = 1\n",
        "    decoder_inputs = decoder_input\n",
        "\n",
        "    for i in range(max_generated_chars):\n",
        "      ## slow decoding, recompute everything at each time\n",
        "      decoder_outputs, attention_weights = decoder(decoder_inputs, encoder_annotations, decoder_hidden)\n",
        "      generated_words = F.softmax(decoder_outputs, dim=2).max(2)[1]\n",
        "      ni = generated_words.cpu().numpy().reshape(-1)  # LongTensor of size 1\n",
        "      ni = ni[-1] #latest output token\n",
        "\n",
        "      decoder_inputs = torch.cat([decoder_input, generated_words], dim=1)\n",
        "      \n",
        "      if ni == end_token:\n",
        "          break\n",
        "      else:\n",
        "          gen_string = \"\".join(\n",
        "              [index_to_char[int(item)] \n",
        "               for item in generated_words.cpu().numpy().reshape(-1)])\n",
        "\n",
        "    return gen_string\n",
        "\n",
        "\n",
        "def visualize_attention(input_string, encoder, decoder, idx_dict, opts):\n",
        "    \"\"\"Generates a heatmap to show where attention is focused in each decoder step.\n",
        "    \"\"\"\n",
        "    if idx_dict is None:\n",
        "      line_pairs, vocab_size, idx_dict = load_data()\n",
        "    char_to_index = idx_dict['char_to_index']\n",
        "    index_to_char = idx_dict['index_to_char']\n",
        "    start_token = idx_dict['start_token']\n",
        "    end_token = idx_dict['end_token']\n",
        "\n",
        "    max_generated_chars = 20\n",
        "    gen_string = ''\n",
        "\n",
        "    indexes = string_to_index_list(input_string, char_to_index, end_token)\n",
        "    indexes = to_var(torch.LongTensor(indexes).unsqueeze(0), opts.cuda)  # Unsqueeze to make it like BS = 1\n",
        "\n",
        "    encoder_annotations, encoder_hidden = encoder(indexes)\n",
        "\n",
        "    decoder_hidden = encoder_hidden\n",
        "    decoder_input = to_var(torch.LongTensor([[start_token]]), opts.cuda)  # For BS = 1\n",
        "    decoder_inputs = decoder_input\n",
        "\n",
        "    produced_end_token = False\n",
        "\n",
        "    for i in range(max_generated_chars):\n",
        "      ## slow decoding, recompute everything at each time\n",
        "      decoder_outputs, attention_weights = decoder(decoder_inputs, encoder_annotations, decoder_hidden)\n",
        "      generated_words = F.softmax(decoder_outputs, dim=2).max(2)[1]\n",
        "      ni = generated_words.cpu().numpy().reshape(-1)  # LongTensor of size 1\n",
        "      ni = ni[-1] #latest output token\n",
        "      \n",
        "      decoder_inputs = torch.cat([decoder_input, generated_words], dim=1)\n",
        "      \n",
        "      if ni == end_token:\n",
        "          break\n",
        "      else:\n",
        "          gen_string = \"\".join(\n",
        "              [index_to_char[int(item)] \n",
        "               for item in generated_words.cpu().numpy().reshape(-1)])\n",
        "    \n",
        "    if isinstance(attention_weights, tuple):\n",
        "      ## transformer's attention mweights\n",
        "      attention_weights, self_attention_weights = attention_weights\n",
        "    \n",
        "    all_attention_weights = attention_weights.data.cpu().numpy()\n",
        "    \n",
        "    for i in range(len(all_attention_weights)):\n",
        "      attention_weights_matrix = all_attention_weights[i].squeeze()\n",
        "      fig = plt.figure()\n",
        "      ax = fig.add_subplot(111)\n",
        "      cax = ax.matshow(attention_weights_matrix, cmap='bone')\n",
        "      fig.colorbar(cax)\n",
        "\n",
        "      # Set up axes\n",
        "      ax.set_yticklabels([''] + list(input_string) + ['EOS'], rotation=90)\n",
        "      ax.set_xticklabels([''] + list(gen_string) + (['EOS'] if produced_end_token else []))\n",
        "\n",
        "      # Show label at every tick\n",
        "      ax.xaxis.set_major_locator(ticker.MultipleLocator(1))\n",
        "      ax.yaxis.set_major_locator(ticker.MultipleLocator(1))\n",
        "      # Add title\n",
        "      plt.xlabel('Attention weights to the source sentence in layer {}'.format(i+1))\n",
        "      plt.tight_layout()\n",
        "      plt.grid('off')\n",
        "      plt.show()\n",
        "      #plt.savefig(save)\n",
        "\n",
        "      #plt.close(fig)\n",
        "\n",
        "    return gen_string\n",
        "\n",
        "\n",
        "def compute_loss(data_dict, encoder, decoder, idx_dict, criterion, optimizer, opts):\n",
        "    \"\"\"Train/Evaluate the model on a dataset.\n",
        "\n",
        "    Arguments:\n",
        "        data_dict: The validation/test word pairs, organized by source and target lengths.\n",
        "        encoder: An encoder model to produce annotations for each step of the input sequence.\n",
        "        decoder: A decoder model (with or without attention) to generate output tokens.\n",
        "        idx_dict: Contains char-to-index and index-to-char mappings, and start & end token indexes.\n",
        "        criterion: Used to compute the CrossEntropyLoss for each decoder output.\n",
        "        optimizer: Train the weights if an optimizer is given. None if only evaluate the model. \n",
        "        opts: The command-line arguments.\n",
        "\n",
        "    Returns:\n",
        "        mean_loss: The average loss over all batches from data_dict.\n",
        "    \"\"\"\n",
        "    start_token = idx_dict['start_token']\n",
        "    end_token = idx_dict['end_token']\n",
        "    char_to_index = idx_dict['char_to_index']\n",
        "\n",
        "    losses = []\n",
        "    for key in data_dict:\n",
        "        input_strings, target_strings = zip(*data_dict[key])\n",
        "        input_tensors = [torch.LongTensor(string_to_index_list(s, char_to_index, end_token)) for s in input_strings]\n",
        "        target_tensors = [torch.LongTensor(string_to_index_list(s, char_to_index, end_token)) for s in target_strings]\n",
        "\n",
        "        num_tensors = len(input_tensors)\n",
        "        num_batches = int(np.ceil(num_tensors / float(opts.batch_size)))\n",
        "\n",
        "        for i in range(num_batches):\n",
        "\n",
        "            start = i * opts.batch_size\n",
        "            end = start + opts.batch_size\n",
        "\n",
        "            inputs = to_var(torch.stack(input_tensors[start:end]), opts.cuda)\n",
        "            targets = to_var(torch.stack(target_tensors[start:end]), opts.cuda)\n",
        "\n",
        "            # The batch size may be different in each epoch\n",
        "            BS = inputs.size(0)\n",
        "\n",
        "            encoder_annotations, encoder_hidden = encoder(inputs)\n",
        "\n",
        "            # The last hidden state of the encoder becomes the first hidden state of the decoder\n",
        "            decoder_hidden = encoder_hidden\n",
        "\n",
        "            start_vector = torch.ones(BS).long().unsqueeze(1) * start_token  # BS x 1 --> 16x1  CHECKED\n",
        "            decoder_input = to_var(start_vector, opts.cuda)  # BS x 1 --> 16x1  CHECKED\n",
        "\n",
        "            loss = 0.0\n",
        "\n",
        "            seq_len = targets.size(1)  # Gets seq_len from BS x seq_len\n",
        "\n",
        "            decoder_inputs = torch.cat([decoder_input, targets[:, 0:-1]], dim=1)  # Gets decoder inputs by shifting the targets to the right \n",
        "            \n",
        "            decoder_outputs, attention_weights = decoder(decoder_inputs, encoder_annotations, encoder_hidden)\n",
        "            decoder_outputs_flatten = decoder_outputs.view(-1, decoder_outputs.size(2))\n",
        "            targets_flatten = targets.view(-1)\n",
        "            loss = criterion(decoder_outputs_flatten, targets_flatten)\n",
        "\n",
        "            losses.append(loss.item())\n",
        "\n",
        "            ## training if an optimizer is provided\n",
        "            if optimizer:\n",
        "              # Zero gradients\n",
        "              optimizer.zero_grad()\n",
        "              # Compute gradients\n",
        "              loss.backward()\n",
        "              # Update the parameters of the encoder and decoder\n",
        "              optimizer.step()\n",
        "              \n",
        "    mean_loss = np.mean(losses)\n",
        "    return mean_loss\n",
        "\n",
        "  \n",
        "\n",
        "def training_loop(train_dict, val_dict, idx_dict, encoder, decoder, criterion, optimizer, opts):\n",
        "    \"\"\"Runs the main training loop; evaluates the model on the val set every epoch.\n",
        "        * Prints training and val loss each epoch.\n",
        "        * Prints qualitative translation results each epoch using TEST_SENTENCE\n",
        "        * Saves an attention map for TEST_WORD_ATTN each epoch\n",
        "\n",
        "    Arguments:\n",
        "        train_dict: The training word pairs, organized by source and target lengths.\n",
        "        val_dict: The validation word pairs, organized by source and target lengths.\n",
        "        idx_dict: Contains char-to-index and index-to-char mappings, and start & end token indexes.\n",
        "        encoder: An encoder model to produce annotations for each step of the input sequence.\n",
        "        decoder: A decoder model (with or without attention) to generate output tokens.\n",
        "        criterion: Used to compute the CrossEntropyLoss for each decoder output.\n",
        "        optimizer: Implements a step rule to update the parameters of the encoder and decoder.\n",
        "        opts: The command-line arguments.\n",
        "    \"\"\"\n",
        "\n",
        "    start_token = idx_dict['start_token']\n",
        "    end_token = idx_dict['end_token']\n",
        "    char_to_index = idx_dict['char_to_index']\n",
        "\n",
        "    loss_log = open(os.path.join(opts.checkpoint_path, 'loss_log.txt'), 'w')\n",
        "\n",
        "    best_val_loss = 1e6\n",
        "    train_losses = []\n",
        "    val_losses = []\n",
        "\n",
        "    for epoch in range(opts.nepochs):\n",
        "\n",
        "        optimizer.param_groups[0]['lr'] *= opts.lr_decay\n",
        "        \n",
        "        train_loss = compute_loss(train_dict, encoder, decoder, idx_dict, criterion, optimizer, opts)\n",
        "        val_loss = compute_loss(val_dict, encoder, decoder, idx_dict, criterion, None, opts)\n",
        "\n",
        "        if val_loss < best_val_loss:\n",
        "            checkpoint(encoder, decoder, idx_dict, opts)\n",
        "\n",
        "        gen_string = translate_sentence(TEST_SENTENCE, encoder, decoder, idx_dict, opts)\n",
        "        print(\"Epoch: {:3d} | Train loss: {:.3f} | Val loss: {:.3f} | Gen: {:20s}\".format(epoch, train_loss, val_loss, gen_string))\n",
        "\n",
        "        loss_log.write('{} {} {}\\n'.format(epoch, train_loss, val_loss))\n",
        "        loss_log.flush()\n",
        "\n",
        "        train_losses.append(train_loss)\n",
        "        val_losses.append(val_loss)\n",
        "\n",
        "        save_loss_plot(train_losses, val_losses, opts)\n",
        "\n",
        "\n",
        "def print_data_stats(line_pairs, vocab_size, idx_dict):\n",
        "    \"\"\"Prints example word pairs, the number of data points, and the vocabulary.\n",
        "    \"\"\"\n",
        "    print('=' * 80)\n",
        "    print('Data Stats'.center(80))\n",
        "    print('-' * 80)\n",
        "    for pair in line_pairs[:5]:\n",
        "        print(pair)\n",
        "    print('Num unique word pairs: {}'.format(len(line_pairs)))\n",
        "    print('Vocabulary: {}'.format(idx_dict['char_to_index'].keys()))\n",
        "    print('Vocab size: {}'.format(vocab_size))\n",
        "    print('=' * 80)\n",
        "\n",
        "\n",
        "def train(opts):\n",
        "    line_pairs, vocab_size, idx_dict = load_data()\n",
        "    print_data_stats(line_pairs, vocab_size, idx_dict)\n",
        "\n",
        "    # Split the line pairs into an 80% train and 20% val split\n",
        "    num_lines = len(line_pairs)\n",
        "    num_train = int(0.8 * num_lines)\n",
        "    train_pairs, val_pairs = line_pairs[:num_train], line_pairs[num_train:]\n",
        "\n",
        "    # Group the data by the lengths of the source and target words, to form batches\n",
        "    train_dict = create_dict(train_pairs)\n",
        "    val_dict = create_dict(val_pairs)\n",
        "\n",
        "    ##########################################################################\n",
        "    ### Setup: Create Encoder, Decoder, Learning Criterion, and Optimizers ###\n",
        "    ##########################################################################\n",
        "    encoder = GRUEncoder(vocab_size=vocab_size, \n",
        "                         hidden_size=opts.hidden_size, \n",
        "                         opts=opts)\n",
        "\n",
        "    if opts.decoder_type == 'rnn':\n",
        "        decoder = RNNDecoder(vocab_size=vocab_size, \n",
        "                             hidden_size=opts.hidden_size)\n",
        "    elif opts.decoder_type == 'rnn_attention':\n",
        "        decoder = RNNAttentionDecoder(vocab_size=vocab_size, \n",
        "                                      hidden_size=opts.hidden_size, \n",
        "                                      attention_type=opts.attention_type)\n",
        "    elif opts.decoder_type == 'transformer':\n",
        "        decoder = TransformerDecoder(vocab_size=vocab_size, \n",
        "                                     hidden_size=opts.hidden_size, \n",
        "                                     num_layers=opts.num_transformer_layers)\n",
        "    elif opts.decoder_type == 'transformer_non_causal':\n",
        "        decoder = TransformerDecoderNonCausal(vocab_size=vocab_size, \n",
        "                                     hidden_size=opts.hidden_size, \n",
        "                                     num_layers=opts.num_transformer_layers)\n",
        "    else:\n",
        "        raise NotImplementedError\n",
        "        \n",
        "    #### setup checkpoint path\n",
        "    model_name = 'h{}-bs{}-{}'.format(opts.hidden_size, \n",
        "                                      opts.batch_size, \n",
        "                                      opts.decoder_type)\n",
        "    opts.checkpoint_path = model_name\n",
        "    create_dir_if_not_exists(opts.checkpoint_path)\n",
        "    ####\n",
        "\n",
        "    if opts.cuda:\n",
        "        encoder.cuda()\n",
        "        decoder.cuda()\n",
        "        print(\"Moved models to GPU!\")\n",
        "\n",
        "    criterion = nn.CrossEntropyLoss()\n",
        "    optimizer = optim.Adam(list(encoder.parameters()) + list(decoder.parameters()), lr=opts.learning_rate)\n",
        "\n",
        "    try:\n",
        "        training_loop(train_dict, val_dict, idx_dict, encoder, decoder, criterion, optimizer, opts)\n",
        "    except KeyboardInterrupt:\n",
        "        print('Exiting early from training.')\n",
        "        return encoder, decoder\n",
        "      \n",
        "    return encoder, decoder\n",
        "\n",
        "\n",
        "def print_opts(opts):\n",
        "    \"\"\"Prints the values of all command-line arguments.\n",
        "    \"\"\"\n",
        "    print('=' * 80)\n",
        "    print('Opts'.center(80))\n",
        "    print('-' * 80)\n",
        "    for key in opts.__dict__:\n",
        "        print('{:>30}: {:<30}'.format(key, opts.__dict__[key]).center(80))\n",
        "    print('=' * 80)\n"
      ],
      "execution_count": 0,
      "outputs": []
    },
    {
      "cell_type": "markdown",
      "metadata": {
        "id": "bXNsLNkOn38w",
        "colab_type": "text"
      },
      "source": [
        "# Your code for NMT models"
      ]
    },
    {
      "cell_type": "markdown",
      "metadata": {
        "id": "_BAfi_8yWB3y",
        "colab_type": "text"
      },
      "source": [
        "## GRU cell"
      ]
    },
    {
      "cell_type": "code",
      "metadata": {
        "id": "9ztmyA5Ro67o",
        "colab_type": "code",
        "colab": {}
      },
      "source": [
        "class MyGRUCell(nn.Module):\n",
        "    def __init__(self, input_size, hidden_size):\n",
        "        super(MyGRUCell, self).__init__()\n",
        "\n",
        "        self.input_size = input_size\n",
        "        self.hidden_size = hidden_size\n",
        "\n",
        "        # ------------\n",
        "        # FILL THIS IN\n",
        "        # ------------\n",
        "        ## Input linear layers\n",
        "        self.Wiz = nn.Linear(input_size, hidden_size)\n",
        "        self.Wir = nn.Linear(input_size, hidden_size)\n",
        "        self.Wih = nn.Linear(input_size, hidden_size)\n",
        "\n",
        "        ## Hidden linear layers\n",
        "        self.Whz = nn.Linear(hidden_size, hidden_size)\n",
        "        self.Whr = nn.Linear(hidden_size, hidden_size)\n",
        "        self.Whh = nn.Linear(hidden_size, hidden_size)\n",
        "        \n",
        "\n",
        "\n",
        "    def forward(self, x, h_prev):\n",
        "        \"\"\"Forward pass of the GRU computation for one time step.\n",
        "\n",
        "        Arguments\n",
        "            x: batch_size x input_size\n",
        "            h_prev: batch_size x hidden_size\n",
        "\n",
        "        Returns:\n",
        "            h_new: batch_size x hidden_size\n",
        "        \"\"\"\n",
        "\n",
        "        # ------------\n",
        "        # FILL THIS IN\n",
        "        # ------------\n",
        "        r = torch.sigmoid(self.Wir(x) + self.Whr(h_prev))\n",
        "        z = torch.sigmoid(self.Wiz(x) + self.Whz(h_prev))\n",
        "        g = torch.tanh(self.Wih(x) + r*self.Whh(h_prev))\n",
        "        h_new = (1-z)*g+z*h_prev\n",
        "        return h_new\n",
        "\n",
        "        "
      ],
      "execution_count": 0,
      "outputs": []
    },
    {
      "cell_type": "markdown",
      "metadata": {
        "id": "-JBVFLEZWNC1",
        "colab_type": "text"
      },
      "source": [
        "### GRU encoder / decoder"
      ]
    },
    {
      "cell_type": "code",
      "metadata": {
        "id": "xaDt7XDmWRzC",
        "colab_type": "code",
        "colab": {}
      },
      "source": [
        "class GRUEncoder(nn.Module):\n",
        "    def __init__(self, vocab_size, hidden_size, opts):\n",
        "        super(GRUEncoder, self).__init__()\n",
        "\n",
        "        self.vocab_size = vocab_size\n",
        "        self.hidden_size = hidden_size\n",
        "        self.opts = opts\n",
        "\n",
        "        self.embedding = nn.Embedding(vocab_size, hidden_size)\n",
        "        self.gru = nn.GRUCell(hidden_size, hidden_size)\n",
        "\n",
        "    def forward(self, inputs):\n",
        "        \"\"\"Forward pass of the encoder RNN.\n",
        "\n",
        "        Arguments:\n",
        "            inputs: Input token indexes across a batch for all time steps in the sequence. (batch_size x seq_len)\n",
        "\n",
        "        Returns:\n",
        "            annotations: The hidden states computed at each step of the input sequence. (batch_size x seq_len x hidden_size)\n",
        "            hidden: The final hidden state of the encoder, for each sequence in a batch. (batch_size x hidden_size)\n",
        "        \"\"\"\n",
        "\n",
        "        batch_size, seq_len = inputs.size()\n",
        "        hidden = self.init_hidden(batch_size)\n",
        "\n",
        "        encoded = self.embedding(inputs)  # batch_size x seq_len x hidden_size\n",
        "        annotations = []\n",
        "\n",
        "        for i in range(seq_len):\n",
        "            x = encoded[:,i,:]  # Get the current time step, across the whole batch\n",
        "            hidden = self.gru(x, hidden)\n",
        "            annotations.append(hidden)\n",
        "\n",
        "        annotations = torch.stack(annotations, dim=1)\n",
        "        return annotations, hidden\n",
        "\n",
        "    def init_hidden(self, bs):\n",
        "        \"\"\"Creates a tensor of zeros to represent the initial hidden states\n",
        "        of a batch of sequences.\n",
        "\n",
        "        Arguments:\n",
        "            bs: The batch size for the initial hidden state.\n",
        "\n",
        "        Returns:\n",
        "            hidden: An initial hidden state of all zeros. (batch_size x hidden_size)\n",
        "        \"\"\"\n",
        "        return to_var(torch.zeros(bs, self.hidden_size), self.opts.cuda)\n",
        "\n",
        "\n",
        "class RNNDecoder(nn.Module):\n",
        "    def __init__(self, vocab_size, hidden_size):\n",
        "        super(RNNDecoder, self).__init__()\n",
        "        self.vocab_size = vocab_size\n",
        "        self.hidden_size = hidden_size\n",
        "\n",
        "        self.embedding = nn.Embedding(vocab_size, hidden_size)\n",
        "        self.rnn = nn.GRUCell(input_size=hidden_size, hidden_size=hidden_size)\n",
        "        self.out = nn.Linear(hidden_size, vocab_size)\n",
        "\n",
        "    def forward(self, inputs, annotations, hidden_init):\n",
        "        \"\"\"Forward pass of the non-attentional decoder RNN.\n",
        "\n",
        "        Arguments:\n",
        "            inputs: Input token indexes across a batch. (batch_size x seq_len)\n",
        "            annotations: This is not used here. It just maintains consistency with the\n",
        "                    interface used by the AttentionDecoder class.\n",
        "            hidden_init: The hidden states from the last step of encoder, across a batch. (batch_size x hidden_size)\n",
        "\n",
        "        Returns:\n",
        "            output: Un-normalized scores for each token in the vocabulary, across a batch for all the decoding time steps. (batch_size x decoder_seq_len x vocab_size)\n",
        "            None\n",
        "        \"\"\"        \n",
        "        batch_size, seq_len = inputs.size()\n",
        "        embed = self.embedding(inputs)  # batch_size x seq_len x hidden_size        \n",
        "\n",
        "        hiddens = []\n",
        "        h_prev = hidden_init\n",
        "        for i in range(seq_len):\n",
        "            x = embed[:,i,:]  # Get the current time step input tokens, across the whole batch\n",
        "            h_prev = self.rnn(x, h_prev)  # batch_size x hidden_size\n",
        "            hiddens.append(h_prev)\n",
        "\n",
        "        hiddens = torch.stack(hiddens, dim=1) # batch_size x seq_len x hidden_size\n",
        "        \n",
        "        output = self.out(hiddens)  # batch_size x seq_len x vocab_size\n",
        "        return output, None      \n"
      ],
      "execution_count": 0,
      "outputs": []
    },
    {
      "cell_type": "markdown",
      "metadata": {
        "id": "tWe0RO5FWajD",
        "colab_type": "text"
      },
      "source": [
        "## Attention"
      ]
    },
    {
      "cell_type": "code",
      "metadata": {
        "id": "9GUK5A7CWhV8",
        "colab_type": "code",
        "colab": {}
      },
      "source": [
        "class AdditiveAttention(nn.Module):\n",
        "    def __init__(self, hidden_size):\n",
        "        super(AdditiveAttention, self).__init__()\n",
        "\n",
        "        self.hidden_size = hidden_size\n",
        "\n",
        "        # A two layer fully-connected network\n",
        "        # hidden_size*2 --> hidden_size, ReLU, hidden_size --> 1\n",
        "        self.attention_network = nn.Sequential(\n",
        "                                    nn.Linear(hidden_size*2, hidden_size),\n",
        "                                    nn.ReLU(),\n",
        "                                    nn.Linear(hidden_size, 1)\n",
        "                                 )\n",
        "\n",
        "        self.softmax = nn.Softmax(dim=1) # changed from dim=1 to dim=2\n",
        "\n",
        "    def forward(self, queries, keys, values):\n",
        "        \"\"\"The forward pass of the additive attention mechanism.\n",
        "\n",
        "        Arguments:\n",
        "            queries: The current decoder hidden state. (batch_size x hidden_size)\n",
        "            keys: The encoder hidden states for each step of the input sequence. (batch_size x seq_len x hidden_size)\n",
        "            values: The encoder hidden states for each step of the input sequence. (batch_size x seq_len x hidden_size)\n",
        "\n",
        "        Returns:\n",
        "            context: weighted average of the values (batch_size x 1 x hidden_size)\n",
        "            attention_weights: Normalized attention weights for each encoder hidden state. (batch_size x seq_len x 1)\n",
        "\n",
        "            The attention_weights must be a softmax weighting over the seq_len annotations.\n",
        "        \"\"\"\n",
        "\n",
        "        # ------------\n",
        "        # FILL THIS IN\n",
        "        # ------------\n",
        "        batch_size = queries.size()[0]\n",
        "        seq_len = keys.size()[1]\n",
        "        expanded_queries = queries.unsqueeze(1).expand_as(keys) # batch_size x seq_len x hidden_size\n",
        "        concat_inputs = torch.cat((expanded_queries, keys), 2) # batch_size x seq_len x 2*hidden_size\n",
        "        unnormalized_attention = self.attention_network(concat_inputs) # batch_size x seq_len x hidden_size\n",
        "        attention_weights = self.softmax(unnormalized_attention)\n",
        "        context = torch.bmm(attention_weights.transpose(1,2), values)\n",
        "        return context, attention_weights\n",
        "        \n",
        "      \n",
        "\n",
        "class ScaledDotAttention(nn.Module):\n",
        "    def __init__(self, hidden_size):\n",
        "        super(ScaledDotAttention, self).__init__()\n",
        "\n",
        "        self.hidden_size = hidden_size\n",
        "\n",
        "        self.Q = nn.Linear(hidden_size, hidden_size)\n",
        "        self.K = nn.Linear(hidden_size, hidden_size)\n",
        "        self.V = nn.Linear(hidden_size, hidden_size)\n",
        "        self.softmax = nn.Softmax(dim=2) # changed from dim=1 to dim=2\n",
        "        self.softmax_dim1 = nn.Softmax(dim=1)\n",
        "        self.scaling_factor = torch.rsqrt(torch.tensor(self.hidden_size, dtype= torch.float))\n",
        "\n",
        "    def forward(self, queries, keys, values):\n",
        "        \"\"\"The forward pass of the scaled dot attention mechanism.\n",
        "\n",
        "        Arguments:\n",
        "            queries: The current decoder hidden state, 2D or 3D tensor. (batch_size x (k) x hidden_size)\n",
        "            keys: The encoder hidden states for each step of the input sequence. (batch_size x seq_len x hidden_size)\n",
        "            values: The encoder hidden states for each step of the input sequence. (batch_size x seq_len x hidden_size)\n",
        "\n",
        "        Returns:\n",
        "            context: weighted average of the values (batch_size x k x hidden_size)\n",
        "            attention_weights: Normalized attention weights for each encoder hidden state. (batch_size x seq_len x 1)\n",
        "\n",
        "            The output must be a softmax weighting over the seq_len annotations.\n",
        "        \"\"\"\n",
        "\n",
        "        # ------------\n",
        "        # FILL THIS IN\n",
        "        # ------------\n",
        "        batch_size = queries.size()[0]\n",
        "        seq_len = keys.size()[1]\n",
        "        if len(queries.size()) == 2:\n",
        "          queries = queries.unsqueeze(1)\n",
        "          \n",
        "        q = self.Q(queries)\n",
        "        k = self.K(keys)\n",
        "        v = self.V(values)\n",
        "        \n",
        "        unnormalized_attention = torch.bmm(q, k.transpose(1,2))*self.scaling_factor\n",
        "        attention_weights = self.softmax(unnormalized_attention)\n",
        "        context = torch.bmm(attention_weights, v)\n",
        "        return context, attention_weights.transpose(1,2)\n",
        "\n",
        "        \n",
        "        \n",
        "\n",
        "class CausalScaledDotAttention(nn.Module):\n",
        "    def __init__(self, hidden_size):\n",
        "        super(CausalScaledDotAttention, self).__init__()\n",
        "\n",
        "        self.hidden_size = hidden_size\n",
        "        self.neg_inf = torch.tensor(-1e7)\n",
        "\n",
        "        self.Q = nn.Linear(hidden_size, hidden_size)\n",
        "        self.K = nn.Linear(hidden_size, hidden_size)\n",
        "        self.V = nn.Linear(hidden_size, hidden_size)\n",
        "        self.softmax = nn.Softmax(dim=2) # changed from dim=1 to dim=2\n",
        "        self.scaling_factor = torch.rsqrt(torch.tensor(self.hidden_size, dtype= torch.float))\n",
        "\n",
        "    def forward(self, queries, keys, values):\n",
        "        \"\"\"The forward pass of the scaled dot attention mechanism.\n",
        "\n",
        "        Arguments:\n",
        "            queries: The current decoder hidden state, 2D or 3D tensor. (batch_size x (k) x hidden_size)\n",
        "            keys: The encoder hidden states for each step of the input sequence. (batch_size x seq_len x hidden_size)\n",
        "            values: The encoder hidden states for each step of the input sequence. (batch_size x seq_len x hidden_size)\n",
        "\n",
        "        Returns:\n",
        "            context: weighted average of the values (batch_size x k x hidden_size)\n",
        "            attention_weights: Normalized attention weights for each encoder hidden state. (batch_size x seq_len x 1)\n",
        "\n",
        "            The output must be a softmax weighting over the seq_len annotations.\n",
        "        \"\"\"\n",
        "\n",
        "        # ------------\n",
        "        # FILL THIS IN\n",
        "        # ------------\n",
        "        batch_size = queries.size()[0]\n",
        "        seq_len = keys.size()[1]\n",
        "        if len(queries.size()) == 2:\n",
        "          queries = queries.unsqueeze(1)\n",
        "        q = self.Q(queries)\n",
        "        k = self.K(keys)\n",
        "        v = self.V(values)\n",
        "        unnormalized_attention = torch.bmm(q, k.transpose(1,2))*self.scaling_factor # batch_size x k x seq_len\n",
        "        mask = self.neg_inf*torch.ones_like(unnormalized_attention).triu(1) # only keep lower diagonal of unnormalized_attention\n",
        "        attention_weights = self.softmax(unnormalized_attention + mask) # batch_size x k x seq_len\n",
        "        context = torch.bmm(attention_weights, v) # batch_size x k x hidden_size\n",
        "        return context, attention_weights.transpose(1,2)\n",
        "        \n",
        "        "
      ],
      "execution_count": 0,
      "outputs": []
    },
    {
      "cell_type": "markdown",
      "metadata": {
        "id": "pemjZo2XWtRt",
        "colab_type": "text"
      },
      "source": [
        "### Attention decoder"
      ]
    },
    {
      "cell_type": "code",
      "metadata": {
        "id": "PfjF0Z-PWwPv",
        "colab_type": "code",
        "colab": {}
      },
      "source": [
        "class RNNAttentionDecoder(nn.Module):\n",
        "    def __init__(self, vocab_size, hidden_size, attention_type='scaled_dot'):\n",
        "        super(RNNAttentionDecoder, self).__init__()\n",
        "        self.vocab_size = vocab_size\n",
        "        self.hidden_size = hidden_size\n",
        "\n",
        "        self.embedding = nn.Embedding(vocab_size, hidden_size)\n",
        "\n",
        "        self.rnn = MyGRUCell(input_size=hidden_size*2, hidden_size=hidden_size)\n",
        "        if attention_type == 'additive':\n",
        "          self.attention = AdditiveAttention(hidden_size=hidden_size)\n",
        "        elif attention_type == 'scaled_dot':\n",
        "          self.attention = ScaledDotAttention(hidden_size=hidden_size)\n",
        "        \n",
        "        self.out = nn.Linear(hidden_size, vocab_size)\n",
        "\n",
        "        \n",
        "    def forward(self, inputs, annotations, hidden_init):\n",
        "        \"\"\"Forward pass of the attention-based decoder RNN.\n",
        "\n",
        "        Arguments:\n",
        "            inputs: Input token indexes across a batch for all the time step. (batch_size x decoder_seq_len)\n",
        "            annotations: The encoder hidden states for each step of the input.\n",
        "                         sequence. (batch_size x seq_len x hidden_size)\n",
        "            hidden_init: The final hidden states from the encoder, across a batch. (batch_size x hidden_size)\n",
        "\n",
        "        Returns:\n",
        "            output: Un-normalized scores for each token in the vocabulary, across a batch for all the decoding time steps. (batch_size x decoder_seq_len x vocab_size)\n",
        "            attentions: The stacked attention weights applied to the encoder annotations (batch_size x encoder_seq_len x decoder_seq_len)\n",
        "        \"\"\"\n",
        "        \n",
        "        batch_size, seq_len = inputs.size()\n",
        "        embed = self.embedding(inputs)  # batch_size x seq_len x hidden_size        \n",
        "\n",
        "        hiddens = []\n",
        "        attentions = []\n",
        "        h_prev = hidden_init\n",
        "        for i in range(seq_len):\n",
        "            # ------------\n",
        "            # FILL THIS IN\n",
        "            # ------------\n",
        "            embed_current = embed[:, i, :] # batch_size x hidden_size\n",
        "            context, attention_weights = self.attention(h_prev, annotations, annotations) # context = batch_size x 1 x hidden_size\n",
        "            context = context.squeeze(1) # batch_size x hidden_size\n",
        "            embed_and_context = torch.cat((embed_current, context), 1)\n",
        "            h_prev = self.rnn(embed_and_context, h_prev)\n",
        "\n",
        "            \n",
        "            hiddens.append(h_prev)\n",
        "            attentions.append(attention_weights)\n",
        "\n",
        "        hiddens = torch.stack(hiddens, dim=1) # batch_size x seq_len x hidden_size\n",
        "        attentions = torch.cat(attentions, dim=2) # batch_size x seq_len x seq_len\n",
        "        \n",
        "        output = self.out(hiddens)  # batch_size x seq_len x vocab_size\n",
        "        return output, attentions\n",
        "        "
      ],
      "execution_count": 0,
      "outputs": []
    },
    {
      "cell_type": "markdown",
      "metadata": {
        "id": "N8JpcwTRW5cw",
        "colab_type": "text"
      },
      "source": [
        "### Transformer decoder"
      ]
    },
    {
      "cell_type": "code",
      "metadata": {
        "id": "V5vJPku1W7sz",
        "colab_type": "code",
        "colab": {}
      },
      "source": [
        "class TransformerDecoder(nn.Module):\n",
        "    def __init__(self, vocab_size, hidden_size, num_layers):\n",
        "        super(TransformerDecoder, self).__init__()\n",
        "        self.vocab_size = vocab_size\n",
        "        self.hidden_size = hidden_size\n",
        "\n",
        "        self.embedding = nn.Embedding(vocab_size, hidden_size)        \n",
        "        self.num_layers = num_layers\n",
        "        \n",
        "        self.self_attentions = nn.ModuleList([CausalScaledDotAttention(\n",
        "                                    hidden_size=hidden_size, \n",
        "                                 ) for i in range(self.num_layers)])\n",
        "        self.encoder_attentions = nn.ModuleList([ScaledDotAttention(\n",
        "                                    hidden_size=hidden_size, \n",
        "                                 ) for i in range(self.num_layers)])\n",
        "        self.attention_mlps = nn.ModuleList([nn.Sequential(\n",
        "                                    nn.Linear(hidden_size, hidden_size),\n",
        "                                    nn.ReLU(),\n",
        "                                 ) for i in range(self.num_layers)])\n",
        "        self.out = nn.Linear(hidden_size, vocab_size)\n",
        "\n",
        "        \n",
        "    def forward(self, inputs, annotations, hidden_init):\n",
        "        \"\"\"Forward pass of the attention-based decoder RNN.\n",
        "\n",
        "        Arguments:\n",
        "            inputs: Input token indexes across a batch for all the time step. (batch_size x decoder_seq_len)\n",
        "            annotations: The encoder hidden states for each step of the input.\n",
        "                         sequence. (batch_size x seq_len x hidden_size)\n",
        "            hidden_init: Not used in the transformer decoder\n",
        "        Returns:\n",
        "            output: Un-normalized scores for each token in the vocabulary, across a batch for all the decoding time steps. (batch_size x decoder_seq_len x vocab_size)\n",
        "            attentions: The stacked attention weights applied to the encoder annotations (batch_size x encoder_seq_len x decoder_seq_len)\n",
        "        \"\"\"\n",
        "        \n",
        "        batch_size, seq_len = inputs.size()\n",
        "        embed = self.embedding(inputs)  # batch_size x seq_len x hidden_size        \n",
        "\n",
        "        encoder_attention_weights_list = []\n",
        "        self_attention_weights_list = []\n",
        "        contexts = embed\n",
        "        for i in range(self.num_layers):\n",
        "          # ------------\n",
        "          # FILL THIS IN\n",
        "          # ------------\n",
        "          new_contexts, self_attention_weights = self.self_attentions[i](contexts, contexts, contexts)\n",
        "          residual_contexts = contexts + new_contexts\n",
        "          new_contexts, encoder_attention_weights = self.encoder_attentions[i](residual_contexts, annotations, annotations)\n",
        "          residual_contexts = residual_contexts + new_contexts\n",
        "          new_contexts = self.attention_mlps[i](residual_contexts)\n",
        "          contexts = residual_contexts + new_contexts\n",
        "\n",
        "          \n",
        "          encoder_attention_weights_list.append(encoder_attention_weights)\n",
        "          self_attention_weights_list.append(self_attention_weights)\n",
        "          \n",
        "        output = self.out(contexts)\n",
        "        encoder_attention_weights = torch.stack(encoder_attention_weights_list)\n",
        "        self_attention_weights = torch.stack(self_attention_weights_list)\n",
        "        \n",
        "        return output, (encoder_attention_weights, self_attention_weights)"
      ],
      "execution_count": 0,
      "outputs": []
    },
    {
      "cell_type": "markdown",
      "metadata": {
        "id": "Dfp38gBDETcJ",
        "colab_type": "text"
      },
      "source": [
        "### Transformer Non Causal"
      ]
    },
    {
      "cell_type": "code",
      "metadata": {
        "id": "0ID4vxiqEWnY",
        "colab_type": "code",
        "colab": {}
      },
      "source": [
        "class TransformerDecoderNonCausal(nn.Module):\n",
        "    def __init__(self, vocab_size, hidden_size, num_layers):\n",
        "        super(TransformerDecoderNonCausal, self).__init__()\n",
        "        self.vocab_size = vocab_size\n",
        "        self.hidden_size = hidden_size\n",
        "\n",
        "        self.embedding = nn.Embedding(vocab_size, hidden_size)        \n",
        "        self.num_layers = num_layers\n",
        "        \n",
        "        self.self_attentions = nn.ModuleList([ScaledDotAttention(\n",
        "                                    hidden_size=hidden_size, \n",
        "                                 ) for i in range(self.num_layers)])\n",
        "        self.encoder_attentions = nn.ModuleList([ScaledDotAttention(\n",
        "                                    hidden_size=hidden_size, \n",
        "                                 ) for i in range(self.num_layers)])\n",
        "        self.attention_mlps = nn.ModuleList([nn.Sequential(\n",
        "                                    nn.Linear(hidden_size, hidden_size),\n",
        "                                    nn.ReLU(),\n",
        "                                 ) for i in range(self.num_layers)])\n",
        "        self.out = nn.Linear(hidden_size, vocab_size)\n",
        "\n",
        "        \n",
        "    def forward(self, inputs, annotations, hidden_init):\n",
        "        \"\"\"Forward pass of the attention-based decoder RNN.\n",
        "\n",
        "        Arguments:\n",
        "            inputs: Input token indexes across a batch for all the time step. (batch_size x decoder_seq_len)\n",
        "            annotations: The encoder hidden states for each step of the input.\n",
        "                         sequence. (batch_size x seq_len x hidden_size)\n",
        "            hidden_init: Not used in the transformer decoder\n",
        "        Returns:\n",
        "            output: Un-normalized scores for each token in the vocabulary, across a batch for all the decoding time steps. (batch_size x decoder_seq_len x vocab_size)\n",
        "            attentions: The stacked attention weights applied to the encoder annotations (batch_size x encoder_seq_len x decoder_seq_len)\n",
        "        \"\"\"\n",
        "        \n",
        "        batch_size, seq_len = inputs.size()\n",
        "        embed = self.embedding(inputs)  # batch_size x seq_len x hidden_size        \n",
        "\n",
        "        encoder_attention_weights_list = []\n",
        "        self_attention_weights_list = []\n",
        "        contexts = embed\n",
        "        for i in range(self.num_layers):\n",
        "          # ------------\n",
        "          # FILL THIS IN\n",
        "          # ------------\n",
        "          new_contexts, self_attention_weights = self.self_attentions[i](contexts, contexts, contexts)\n",
        "          residual_contexts = contexts + new_contexts\n",
        "          new_contexts, encoder_attention_weights = self.encoder_attentions[i](residual_contexts, annotations, annotations)\n",
        "          residual_contexts = residual_contexts + new_contexts\n",
        "          new_contexts = self.attention_mlps[i](residual_contexts)\n",
        "          contexts = residual_contexts + new_contexts\n",
        "\n",
        "          \n",
        "          encoder_attention_weights_list.append(encoder_attention_weights)\n",
        "          self_attention_weights_list.append(self_attention_weights)\n",
        "          \n",
        "        output = self.out(contexts)\n",
        "        encoder_attention_weights = torch.stack(encoder_attention_weights_list)\n",
        "        self_attention_weights = torch.stack(self_attention_weights_list)\n",
        "        \n",
        "        return output, (encoder_attention_weights, self_attention_weights)"
      ],
      "execution_count": 0,
      "outputs": []
    },
    {
      "cell_type": "markdown",
      "metadata": {
        "id": "XuNFd6LNo0-o",
        "colab_type": "text"
      },
      "source": [
        "# Training\n"
      ]
    },
    {
      "cell_type": "markdown",
      "metadata": {
        "id": "kiUwiOITHTW4",
        "colab_type": "text"
      },
      "source": [
        "## Download dataset"
      ]
    },
    {
      "cell_type": "code",
      "metadata": {
        "id": "xwcFjsEpHRbI",
        "colab_type": "code",
        "outputId": "a8a89357-9613-4455-e5cd-322dc514052c",
        "colab": {
          "base_uri": "https://localhost:8080/",
          "height": 34
        }
      },
      "source": [
        "######################################################################\n",
        "# Download Translation datasets\n",
        "######################################################################\n",
        "data_fpath = get_file(fname='pig_latin_data.txt', \n",
        "                         origin='http://www.cs.toronto.edu/~jba/pig_latin_data.txt', \n",
        "                         untar=False)"
      ],
      "execution_count": 11,
      "outputs": [
        {
          "output_type": "stream",
          "text": [
            "data/pig_latin_data.txt\n"
          ],
          "name": "stdout"
        }
      ]
    },
    {
      "cell_type": "markdown",
      "metadata": {
        "id": "hmQmyJDSRFKR",
        "colab_type": "text"
      },
      "source": [
        "## RNN decoder"
      ]
    },
    {
      "cell_type": "code",
      "metadata": {
        "id": "0LKaRF1jwhH7",
        "colab_type": "code",
        "colab": {
          "base_uri": "https://localhost:8080/",
          "height": 2281
        },
        "outputId": "dc722130-befb-49f5-82be-d2b8ef9e82a6"
      },
      "source": [
        "TEST_SENTENCE = 'the air conditioning is working'\n",
        "\n",
        "args = AttrDict()\n",
        "args_dict = {\n",
        "              'cuda':True, \n",
        "              'nepochs':100, \n",
        "              'checkpoint_dir':\"checkpoints\", \n",
        "              'learning_rate':0.005, \n",
        "              'lr_decay':0.99,\n",
        "              'batch_size':64, \n",
        "              'hidden_size':20, \n",
        "              'decoder_type': 'rnn', # options: rnn / rnn_attention / transformer\n",
        "              'attention_type': '',  # options: additive / scaled_dot\n",
        "}\n",
        "args.update(args_dict)\n",
        "\n",
        "print_opts(args)\n",
        "rnn_encoder, rnn_decoder = train(args)\n",
        "\n",
        "translated = translate_sentence(TEST_SENTENCE, rnn_encoder, rnn_decoder, None, args)\n",
        "print(\"source:\\t\\t{} \\ntranslated:\\t{}\".format(TEST_SENTENCE, translated))"
      ],
      "execution_count": 12,
      "outputs": [
        {
          "output_type": "stream",
          "text": [
            "================================================================================\n",
            "                                      Opts                                      \n",
            "--------------------------------------------------------------------------------\n",
            "                            hidden_size: 20                                     \n",
            "                          learning_rate: 0.005                                  \n",
            "                             batch_size: 64                                     \n",
            "                                nepochs: 100                                    \n",
            "                                   cuda: 1                                      \n",
            "                         checkpoint_dir: checkpoints                            \n",
            "                           decoder_type: rnn                                    \n",
            "                               lr_decay: 0.99                                   \n",
            "                         attention_type:                                        \n",
            "================================================================================\n",
            "================================================================================\n",
            "                                   Data Stats                                   \n",
            "--------------------------------------------------------------------------------\n",
            "('payment', 'aymentpay')\n",
            "('ordination', 'ordinationway')\n",
            "('amends', 'amendsway')\n",
            "('principally', 'incipallypray')\n",
            "('anybody', 'anybodyway')\n",
            "Num unique word pairs: 6387\n",
            "Vocabulary: ['EOS', '-', 'SOS', 'a', 'c', 'b', 'e', 'd', 'g', 'f', 'i', 'h', 'k', 'j', 'm', 'l', 'o', 'n', 'q', 'p', 's', 'r', 'u', 't', 'w', 'v', 'y', 'x', 'z']\n",
            "Vocab size: 29\n",
            "================================================================================\n",
            "Moved models to GPU!\n"
          ],
          "name": "stdout"
        },
        {
          "output_type": "stream",
          "text": [
            "/usr/local/lib/python2.7/dist-packages/torch/serialization.py:256: UserWarning: Couldn't retrieve source code for container of type GRUEncoder. It won't be checked for correctness upon loading.\n",
            "  \"type \" + obj.__name__ + \". It won't be checked \"\n",
            "/usr/local/lib/python2.7/dist-packages/torch/serialization.py:256: UserWarning: Couldn't retrieve source code for container of type RNNDecoder. It won't be checked for correctness upon loading.\n",
            "  \"type \" + obj.__name__ + \". It won't be checked \"\n"
          ],
          "name": "stderr"
        },
        {
          "output_type": "stream",
          "text": [
            "Epoch:   0 | Train loss: 2.408 | Val loss: 2.031 | Gen: esteray antay eray estay eray\n",
            "Epoch:   1 | Train loss: 1.940 | Val loss: 1.849 | Gen: eray antay onteray eray oonteray\n",
            "Epoch:   2 | Train loss: 1.789 | Val loss: 1.773 | Gen: ersay aray ontersay ersay oonteray\n",
            "Epoch:   3 | Train loss: 1.686 | Val loss: 1.686 | Gen: estay aray ontertay ingsay oousterday\n",
            "Epoch:   4 | Train loss: 1.609 | Val loss: 1.643 | Gen: estay aringway onterteray ighedway oousterday\n",
            "Epoch:   5 | Train loss: 1.548 | Val loss: 1.593 | Gen: estay aringway ontersenstay ighedway oousterday\n",
            "Epoch:   6 | Train loss: 1.490 | Val loss: 1.556 | Gen: estay arighway onterstay ightray ooustray\n",
            "Epoch:   7 | Train loss: 1.453 | Val loss: 1.561 | Gen: eay arighway intingshay ightray oordway\n",
            "Epoch:   8 | Train loss: 1.417 | Val loss: 1.492 | Gen: estay arighway ondingway ighway ourtray\n",
            "Epoch:   9 | Train loss: 1.375 | Val loss: 1.466 | Gen: estay arighway ondingway ighway ourngray\n",
            "Epoch:  10 | Train loss: 1.346 | Val loss: 1.441 | Gen: estay away-awlay ondingray ighshay ourdway\n",
            "Epoch:  11 | Train loss: 1.314 | Val loss: 1.422 | Gen: estay arighway ondingray ighshay ourdway\n",
            "Epoch:  12 | Train loss: 1.287 | Val loss: 1.403 | Gen: estay arighway intray ighway ourngray\n",
            "Epoch:  13 | Train loss: 1.261 | Val loss: 1.390 | Gen: estay arighay intray-onsway ighlay ourngray\n",
            "Epoch:  14 | Train loss: 1.240 | Val loss: 1.364 | Gen: edway arighway intray-onday ighlyway ourngray\n",
            "Epoch:  15 | Train loss: 1.217 | Val loss: 1.404 | Gen: eway arighway ondingway ighlyway ourghtnay\n",
            "Epoch:  16 | Train loss: 1.209 | Val loss: 1.348 | Gen: ethay arighlay ondingray ighlyway oughtray\n",
            "Epoch:  17 | Train loss: 1.171 | Val loss: 1.335 | Gen: ethay arighway ondingray ighstay oughtray\n",
            "Epoch:  18 | Train loss: 1.163 | Val loss: 1.305 | Gen: ethay aingway ondingray ighlyway oughtray\n",
            "Epoch:  19 | Train loss: 1.148 | Val loss: 1.330 | Gen: eedhay aingway intoringway issshay oughtray\n",
            "Epoch:  20 | Train loss: 1.154 | Val loss: 1.323 | Gen: estay aingway ondingray ighlay oughtray\n",
            "Epoch:  21 | Train loss: 1.118 | Val loss: 1.277 | Gen: ethay aingway ondingray-onday isshay oughtray\n",
            "Epoch:  22 | Train loss: 1.090 | Val loss: 1.266 | Gen: ethay aingway ondingray-onday issway oughtray\n",
            "Epoch:  23 | Train loss: 1.075 | Val loss: 1.279 | Gen: ethay airyway ondingray-oornay ishway oughtray\n",
            "Epoch:  24 | Train loss: 1.063 | Val loss: 1.240 | Gen: ethay aingway ondingray issway oughtray\n",
            "Epoch:  25 | Train loss: 1.060 | Val loss: 1.251 | Gen: ethay airyray ondingray issway oughtray\n",
            "Epoch:  26 | Train loss: 1.042 | Val loss: 1.240 | Gen: ethay airyray ondintingway issway oughtray\n",
            "Epoch:  27 | Train loss: 1.041 | Val loss: 1.237 | Gen: ethay ayigray ondintingway issway ourghtray\n",
            "Epoch:  28 | Train loss: 1.024 | Val loss: 1.202 | Gen: ethay airyray ontingray-offay issway oughtray\n",
            "Epoch:  29 | Train loss: 1.015 | Val loss: 1.197 | Gen: ethay airyray onduntsingway issway oughtray\n",
            "Epoch:  30 | Train loss: 1.002 | Val loss: 1.214 | Gen: ethay airyray ontingray-oringway issway oughtray\n",
            "Epoch:  31 | Train loss: 0.994 | Val loss: 1.183 | Gen: ethay airyray ondurentway isway ourghtray\n",
            "Epoch:  32 | Train loss: 0.980 | Val loss: 1.166 | Gen: ethay airyray ondundingtay isway ourghtray\n",
            "Epoch:  33 | Train loss: 0.965 | Val loss: 1.167 | Gen: ethay airyray ondundingway issway ourghtray\n",
            "Epoch:  34 | Train loss: 0.966 | Val loss: 1.152 | Gen: ethay airyray ondundway issway ourghlay\n",
            "Epoch:  35 | Train loss: 0.946 | Val loss: 1.149 | Gen: ethay airyray ondundway isway ourghlay\n",
            "Epoch:  36 | Train loss: 0.944 | Val loss: 1.144 | Gen: ethay airyray onduntsay issway ourghtray\n",
            "Epoch:  37 | Train loss: 0.934 | Val loss: 1.172 | Gen: ethay airyray ondurencedway issway oughtnay\n",
            "Epoch:  38 | Train loss: 0.933 | Val loss: 1.124 | Gen: ethay airyway onfingray-oodray isway ourgray\n",
            "Epoch:  39 | Train loss: 0.928 | Val loss: 1.199 | Gen: ethay airyray ondurcencay issway ourgray\n",
            "Epoch:  40 | Train loss: 0.930 | Val loss: 1.124 | Gen: ethay airyray onfingray-ingway isway ourgray\n",
            "Epoch:  41 | Train loss: 0.909 | Val loss: 1.119 | Gen: ethay airyray ondunsiceway issway ourgray\n",
            "Epoch:  42 | Train loss: 0.889 | Val loss: 1.106 | Gen: ethay airyway onfindingray isway ourgray\n",
            "Epoch:  43 | Train loss: 0.879 | Val loss: 1.099 | Gen: ethay airyway ondundway isway ourgray\n",
            "Epoch:  44 | Train loss: 0.877 | Val loss: 1.088 | Gen: ethay airyway ondunsinglay isway orglinglay\n",
            "Epoch:  45 | Train loss: 0.870 | Val loss: 1.105 | Gen: eedhay airyway onduntarcay issway orkingway\n",
            "Epoch:  46 | Train loss: 0.862 | Val loss: 1.098 | Gen: ethay airyway ondunsiceway issway orglingpay\n",
            "Epoch:  47 | Train loss: 0.861 | Val loss: 1.078 | Gen: ethay airyway onfingray-oringway isway orkingway\n",
            "Epoch:  48 | Train loss: 0.850 | Val loss: 1.084 | Gen: ethay airyway ondurencylay issway orglicyvay\n",
            "Epoch:  49 | Train loss: 0.864 | Val loss: 1.068 | Gen: ethay airyway onduntandway isway orkingway\n",
            "Epoch:  50 | Train loss: 0.840 | Val loss: 1.044 | Gen: ethay airyway ondunsiceway ispray orglingay\n",
            "Epoch:  51 | Train loss: 0.824 | Val loss: 1.051 | Gen: ethay airyway ondunsiceway isway orglingway\n",
            "Epoch:  52 | Train loss: 0.826 | Val loss: 1.068 | Gen: ethay airyway onfindway-ingtay isway orglingay\n",
            "Epoch:  53 | Train loss: 0.822 | Val loss: 1.050 | Gen: ethay airyway ondunsiceway ispray orglingay\n",
            "Epoch:  54 | Train loss: 0.823 | Val loss: 1.046 | Gen: ethay airyway ondunsiceway isway orglingpay\n",
            "Epoch:  55 | Train loss: 0.800 | Val loss: 1.030 | Gen: ethay airyway ondunsiceway isway orglingay\n",
            "Epoch:  56 | Train loss: 0.786 | Val loss: 1.030 | Gen: ethay airyway ondunsiceway isway orglingay\n",
            "Epoch:  57 | Train loss: 0.821 | Val loss: 1.078 | Gen: ethay airyway ondurenfay isway orglingay\n",
            "Epoch:  58 | Train loss: 0.824 | Val loss: 1.023 | Gen: ethay airyway ondunsiceway isway orglingcay\n",
            "Epoch:  59 | Train loss: 0.793 | Val loss: 1.023 | Gen: ethay airyway ondunsiceway isway orglingway\n",
            "Epoch:  60 | Train loss: 0.782 | Val loss: 1.017 | Gen: ethay airyway ondunsityway isway orglioncay\n",
            "Epoch:  61 | Train loss: 0.774 | Val loss: 1.020 | Gen: ethay airyway ondunsiceway ispray orglingway\n",
            "Epoch:  62 | Train loss: 0.764 | Val loss: 1.002 | Gen: ethay airyway ondunsiceway isway orglingay\n",
            "Epoch:  63 | Train loss: 0.766 | Val loss: 0.993 | Gen: ethay airyway ondurencylay isway orglioncay\n",
            "Epoch:  64 | Train loss: 0.749 | Val loss: 0.998 | Gen: ethay airyway ondunsityway isway orglingay\n",
            "Epoch:  65 | Train loss: 0.743 | Val loss: 0.997 | Gen: ethay airyway ondunsiceway isway orglioncay\n",
            "Epoch:  66 | Train loss: 0.737 | Val loss: 0.987 | Gen: ethay airyway ondunsityway isway orglionway\n",
            "Epoch:  67 | Train loss: 0.756 | Val loss: 1.056 | Gen: ethay airyway ondurenfay ispray orglionway\n",
            "Epoch:  68 | Train loss: 0.814 | Val loss: 1.015 | Gen: ethay airyway onfustingfay isway orinkway\n",
            "Epoch:  69 | Train loss: 0.770 | Val loss: 1.016 | Gen: ethay airyway ondunsiceway isway orglioncay\n",
            "Epoch:  70 | Train loss: 0.738 | Val loss: 0.968 | Gen: ethay airyway ondunsityway isway orglioncay\n",
            "Epoch:  71 | Train loss: 0.721 | Val loss: 0.972 | Gen: ethay airyway ondunsityway isway orglioncay\n",
            "Epoch:  72 | Train loss: 0.713 | Val loss: 0.963 | Gen: ethay airyway ondunsityway isway orglioncay\n",
            "Epoch:  73 | Train loss: 0.719 | Val loss: 0.976 | Gen: ethay airyway ondunsityway isway orglioncay\n",
            "Epoch:  74 | Train loss: 0.712 | Val loss: 0.964 | Gen: ethay airyway ondunsityway isway orglionway\n",
            "Epoch:  75 | Train loss: 0.709 | Val loss: 0.962 | Gen: ethay airway ondurencylay isway orglioncay\n",
            "Epoch:  76 | Train loss: 0.700 | Val loss: 0.967 | Gen: ethay airway ondunsityway isway orglionway\n",
            "Epoch:  77 | Train loss: 0.704 | Val loss: 0.972 | Gen: ethay airway ondunsityway isway orgingolay\n",
            "Epoch:  78 | Train loss: 0.710 | Val loss: 0.967 | Gen: ethay airyway ondunsiceway isway orglioncay\n",
            "Epoch:  79 | Train loss: 0.710 | Val loss: 0.955 | Gen: ethay airway ondunsityway isway orglionway\n",
            "Epoch:  80 | Train loss: 0.696 | Val loss: 0.942 | Gen: ethay airway onductionsay isway orglioncay\n",
            "Epoch:  81 | Train loss: 0.685 | Val loss: 0.941 | Gen: ethay airway ondunsityway isway orginkway\n",
            "Epoch:  82 | Train loss: 0.679 | Val loss: 0.952 | Gen: ethay airway onductionsay isway orglioncay\n",
            "Epoch:  83 | Train loss: 0.675 | Val loss: 0.944 | Gen: ethay airway ondunsityway isway orglionway\n",
            "Epoch:  84 | Train loss: 0.695 | Val loss: 1.021 | Gen: ethay airway ondurentclay isway orglionway\n",
            "Epoch:  85 | Train loss: 0.690 | Val loss: 0.934 | Gen: ethay airway ondunedlay isway orginkway\n",
            "Epoch:  86 | Train loss: 0.695 | Val loss: 0.951 | Gen: ethay airway ondurentcray isway orginkway\n",
            "Epoch:  87 | Train loss: 0.691 | Val loss: 0.940 | Gen: ethay airyway ondunedlay isway orinkway\n",
            "Epoch:  88 | Train loss: 0.666 | Val loss: 0.928 | Gen: ethay airway ondunsityway isway orginkway\n",
            "Epoch:  89 | Train loss: 0.660 | Val loss: 0.935 | Gen: ethay airway ondunedlay isway orginkway\n",
            "Epoch:  90 | Train loss: 0.647 | Val loss: 0.931 | Gen: ethay airway ondunedlay isway orginkway\n",
            "Epoch:  91 | Train loss: 0.648 | Val loss: 0.937 | Gen: ethay airway ondurentcypay isway orginkway\n",
            "Epoch:  92 | Train loss: 0.644 | Val loss: 0.933 | Gen: ethay airway ondurentcypay isway orglionway\n",
            "Epoch:  93 | Train loss: 0.746 | Val loss: 1.230 | Gen: estay airyway onlfingsway isway orglionway\n",
            "Epoch:  94 | Train loss: 0.774 | Val loss: 0.948 | Gen: ethay airyway ondunityway isway orgionpay\n",
            "Epoch:  95 | Train loss: 0.668 | Val loss: 0.925 | Gen: ethay airyway ondunedlay isway orinkway\n",
            "Epoch:  96 | Train loss: 0.646 | Val loss: 0.924 | Gen: ethay airyway ondunedlay-inway isway orikencay\n",
            "Epoch:  97 | Train loss: 0.637 | Val loss: 0.918 | Gen: ethay airway ondunedlay isway orinkway\n",
            "Epoch:  98 | Train loss: 0.630 | Val loss: 0.924 | Gen: ethay airway ondunedlay isway orginkway\n",
            "Epoch:  99 | Train loss: 0.630 | Val loss: 0.921 | Gen: ethay airway onductionsmay isway orginkway\n",
            "source:\t\tthe air conditioning is working \n",
            "translated:\tethay airway onductionsmay isway orginkway\n"
          ],
          "name": "stdout"
        }
      ]
    },
    {
      "cell_type": "code",
      "metadata": {
        "id": "p2kPGj5DFv7a",
        "colab_type": "code",
        "outputId": "c0f9a9b6-3974-44b3-9254-81764b099554",
        "colab": {
          "base_uri": "https://localhost:8080/",
          "height": 85
        }
      },
      "source": [
        "TEST_SENTENCE = 'the air conditioning is working'\n",
        "translated = translate_sentence(TEST_SENTENCE, rnn_encoder, rnn_decoder, None, args)\n",
        "print(\"source:\\t\\t{} \\ntranslated:\\t{}\".format(TEST_SENTENCE, translated))\n",
        "\n",
        "TEST_SENTENCE = 'this string should be relatively difficult to explain to anthropologists'\n",
        "translated = translate_sentence(TEST_SENTENCE, rnn_encoder, rnn_decoder, None, args)\n",
        "print(\"source:\\t\\t{} \\ntranslated:\\t{}\".format(TEST_SENTENCE, translated))"
      ],
      "execution_count": 13,
      "outputs": [
        {
          "output_type": "stream",
          "text": [
            "source:\t\tthe air conditioning is working \n",
            "translated:\tethay airway onductionsmay isway orginkway\n",
            "source:\t\tthis string should be relatively difficult to explain to anthropologists \n",
            "translated:\tisthay ingstay uldhay ebay elabletiglyway iffucuredlay otay explackway otay anthtlay-ossionway\n"
          ],
          "name": "stdout"
        }
      ]
    },
    {
      "cell_type": "markdown",
      "metadata": {
        "id": "7cP7nl5NRJbu",
        "colab_type": "text"
      },
      "source": [
        "## RNN attention decoder Additive Context"
      ]
    },
    {
      "cell_type": "code",
      "metadata": {
        "id": "nKlyfbuPDXDR",
        "colab_type": "code",
        "outputId": "a3bfd02c-f09e-4871-f650-6872a0983ac5",
        "colab": {
          "base_uri": "https://localhost:8080/",
          "height": 2315
        }
      },
      "source": [
        "TEST_SENTENCE = 'the air conditioning is working'\n",
        "\n",
        "args = AttrDict()\n",
        "args_dict = {\n",
        "              'cuda':True, \n",
        "              'nepochs':100, \n",
        "              'checkpoint_dir':\"checkpoints\", \n",
        "              'learning_rate':0.005, \n",
        "              'lr_decay':0.99,\n",
        "              'batch_size':64, \n",
        "              'hidden_size':20, \n",
        "              'decoder_type': 'rnn_attention', # options: rnn / rnn_attention / transformer\n",
        "              'attention_type': 'additive',  # options: additive / scaled_dot\n",
        "}\n",
        "args.update(args_dict)\n",
        "\n",
        "print_opts(args)\n",
        "rnn_attn_encoder, rnn_attn_decoder = train(args)\n",
        "\n",
        "translated = translate_sentence(TEST_SENTENCE, rnn_attn_encoder, rnn_attn_decoder, None, args)\n",
        "print(\"source:\\t\\t{} \\ntranslated:\\t{}\".format(TEST_SENTENCE, translated))"
      ],
      "execution_count": 14,
      "outputs": [
        {
          "output_type": "stream",
          "text": [
            "================================================================================\n",
            "                                      Opts                                      \n",
            "--------------------------------------------------------------------------------\n",
            "                            hidden_size: 20                                     \n",
            "                          learning_rate: 0.005                                  \n",
            "                             batch_size: 64                                     \n",
            "                                nepochs: 100                                    \n",
            "                                   cuda: 1                                      \n",
            "                         checkpoint_dir: checkpoints                            \n",
            "                           decoder_type: rnn_attention                          \n",
            "                               lr_decay: 0.99                                   \n",
            "                         attention_type: additive                               \n",
            "================================================================================\n",
            "================================================================================\n",
            "                                   Data Stats                                   \n",
            "--------------------------------------------------------------------------------\n",
            "('payment', 'aymentpay')\n",
            "('ordination', 'ordinationway')\n",
            "('amends', 'amendsway')\n",
            "('principally', 'incipallypray')\n",
            "('anybody', 'anybodyway')\n",
            "Num unique word pairs: 6387\n",
            "Vocabulary: ['EOS', '-', 'SOS', 'a', 'c', 'b', 'e', 'd', 'g', 'f', 'i', 'h', 'k', 'j', 'm', 'l', 'o', 'n', 'q', 'p', 's', 'r', 'u', 't', 'w', 'v', 'y', 'x', 'z']\n",
            "Vocab size: 29\n",
            "================================================================================\n",
            "Moved models to GPU!\n"
          ],
          "name": "stdout"
        },
        {
          "output_type": "stream",
          "text": [
            "/usr/local/lib/python2.7/dist-packages/torch/serialization.py:256: UserWarning: Couldn't retrieve source code for container of type RNNAttentionDecoder. It won't be checked for correctness upon loading.\n",
            "  \"type \" + obj.__name__ + \". It won't be checked \"\n",
            "/usr/local/lib/python2.7/dist-packages/torch/serialization.py:256: UserWarning: Couldn't retrieve source code for container of type MyGRUCell. It won't be checked for correctness upon loading.\n",
            "  \"type \" + obj.__name__ + \". It won't be checked \"\n",
            "/usr/local/lib/python2.7/dist-packages/torch/serialization.py:256: UserWarning: Couldn't retrieve source code for container of type AdditiveAttention. It won't be checked for correctness upon loading.\n",
            "  \"type \" + obj.__name__ + \". It won't be checked \"\n"
          ],
          "name": "stderr"
        },
        {
          "output_type": "stream",
          "text": [
            "Epoch:   0 | Train loss: 2.393 | Val loss: 1.974 | Gen: eray ay enenensay eray enseray\n",
            "Epoch:   1 | Train loss: 1.874 | Val loss: 1.774 | Gen: eray aray ongtingtay eredway ongtingtay\n",
            "Epoch:   2 | Train loss: 1.663 | Val loss: 1.603 | Gen: estay aray ongingtingay isedway oongstay\n",
            "Epoch:   3 | Train loss: 1.482 | Val loss: 1.416 | Gen: estay aray ongongay isssay ooringway\n",
            "Epoch:   4 | Train loss: 1.285 | Val loss: 1.211 | Gen: etray ariday onghingay issay oringindway\n",
            "Epoch:   5 | Train loss: 1.089 | Val loss: 1.012 | Gen: ehtway airyway ongingay issay oringray\n",
            "Epoch:   6 | Train loss: 0.897 | Val loss: 0.831 | Gen: eaththay airway onditingay issay oriingday\n",
            "Epoch:   7 | Train loss: 0.734 | Val loss: 0.722 | Gen: eethtay airway onditingay isway oringway\n",
            "Epoch:   8 | Train loss: 0.672 | Val loss: 0.689 | Gen: eway aiirway onditiongway issay orkingway\n",
            "Epoch:   9 | Train loss: 0.635 | Val loss: 0.793 | Gen: ehthay airway ondingay-ingray issay orkingway\n",
            "Epoch:  10 | Train loss: 0.562 | Val loss: 0.501 | Gen: eay-othay airway onditiongingway isway oroigway\n",
            "Epoch:  11 | Train loss: 0.435 | Val loss: 0.412 | Gen: ehtay airway onditioningway isway orkingway\n",
            "Epoch:  12 | Train loss: 0.380 | Val loss: 0.471 | Gen: ehtay airway onditiongway isway orkingway\n",
            "Epoch:  13 | Train loss: 0.354 | Val loss: 0.358 | Gen: ehtay airway onditioningway isway orkingway\n",
            "Epoch:  14 | Train loss: 0.356 | Val loss: 0.422 | Gen: ehtay airway onditiongway isway orkingway\n",
            "Epoch:  15 | Train loss: 0.379 | Val loss: 0.393 | Gen: ehtay airway onditiongingway isway orkingway\n",
            "Epoch:  16 | Train loss: 0.267 | Val loss: 0.359 | Gen: elay airway onditiongingway isway orkingway\n",
            "Epoch:  17 | Train loss: 0.214 | Val loss: 0.317 | Gen: elay airway onditiongway isway orkingway\n",
            "Epoch:  18 | Train loss: 0.239 | Val loss: 0.297 | Gen: elay airway onditiongway isway orkingway\n",
            "Epoch:  19 | Train loss: 0.193 | Val loss: 0.308 | Gen: eway airway onditiongingway isway orkingway\n",
            "Epoch:  20 | Train loss: 0.199 | Val loss: 0.264 | Gen: eday airway onditiongay isway orkingway\n",
            "Epoch:  21 | Train loss: 0.169 | Val loss: 0.286 | Gen: eway airway onditiongway isway orkingway\n",
            "Epoch:  22 | Train loss: 0.164 | Val loss: 0.228 | Gen: elay airway onditioningway isway orkingway\n",
            "Epoch:  23 | Train loss: 0.150 | Val loss: 0.218 | Gen: ehay airway onditiongingway isway orkingway\n",
            "Epoch:  24 | Train loss: 0.108 | Val loss: 0.217 | Gen: ethay airway onditioningcay isway orkingway\n",
            "Epoch:  25 | Train loss: 0.188 | Val loss: 0.296 | Gen: ethay airway onditiongway isway orkingway\n",
            "Epoch:  26 | Train loss: 0.179 | Val loss: 0.206 | Gen: ehay airway onditiongcay isway orkingway\n",
            "Epoch:  27 | Train loss: 0.114 | Val loss: 0.149 | Gen: ethay airway onditiongway isway orkingway\n",
            "Epoch:  28 | Train loss: 0.091 | Val loss: 0.139 | Gen: ethay airway onditiongway isway orkingway\n",
            "Epoch:  29 | Train loss: 0.070 | Val loss: 0.135 | Gen: ethay airway onditiongway isway orkingway\n",
            "Epoch:  30 | Train loss: 0.055 | Val loss: 0.130 | Gen: ethay airway onditiongway isway orkingway\n",
            "Epoch:  31 | Train loss: 0.080 | Val loss: 0.167 | Gen: ethay airway onditioningcay isway orkingway\n",
            "Epoch:  32 | Train loss: 0.111 | Val loss: 0.177 | Gen: ethay airway onditiongway isway orkingway\n",
            "Epoch:  33 | Train loss: 0.065 | Val loss: 0.109 | Gen: ethay airway onditioningcay isway orkingway\n",
            "Epoch:  34 | Train loss: 0.051 | Val loss: 0.160 | Gen: ethay airway onditioncay isway orkingway\n",
            "Epoch:  35 | Train loss: 0.085 | Val loss: 0.216 | Gen: ethay airway onditioningcay isway orkingway\n",
            "Epoch:  36 | Train loss: 0.075 | Val loss: 0.125 | Gen: ethay airway onditionicgcay isway orkingway\n",
            "Epoch:  37 | Train loss: 0.040 | Val loss: 0.096 | Gen: ethay airway onditioningcay isway orkingway\n",
            "Epoch:  38 | Train loss: 0.032 | Val loss: 0.158 | Gen: ethay airway onditiongcay isway orkingway\n",
            "Epoch:  39 | Train loss: 0.035 | Val loss: 0.158 | Gen: ethay airway onditionway isway orkingway\n",
            "Epoch:  40 | Train loss: 0.101 | Val loss: 0.146 | Gen: ethay airway onditioningcay isway orkingway\n",
            "Epoch:  41 | Train loss: 0.156 | Val loss: 0.174 | Gen: ethay airway onditioningcay isway orkingway\n",
            "Epoch:  42 | Train loss: 0.064 | Val loss: 0.112 | Gen: ethay airway onditioningcay isway orkingway\n",
            "Epoch:  43 | Train loss: 0.041 | Val loss: 0.092 | Gen: ethay airway onditiongcay isway orkingway\n",
            "Epoch:  44 | Train loss: 0.027 | Val loss: 0.071 | Gen: ethay airway onditioningcay isway orkingway\n",
            "Epoch:  45 | Train loss: 0.021 | Val loss: 0.068 | Gen: ethay airway onditioningcay isway orkingway\n",
            "Epoch:  46 | Train loss: 0.017 | Val loss: 0.063 | Gen: ethay airway onditioningcay isway orkingway\n",
            "Epoch:  47 | Train loss: 0.016 | Val loss: 0.073 | Gen: ethay airway onditionway isway orkingway\n",
            "Epoch:  48 | Train loss: 0.013 | Val loss: 0.070 | Gen: ethay airway onditioningcay isway orkingway\n",
            "Epoch:  49 | Train loss: 0.011 | Val loss: 0.055 | Gen: ethay airway onditioningcay isway orkingway\n",
            "Epoch:  50 | Train loss: 0.011 | Val loss: 0.057 | Gen: ethay airway onditioningcay isway orkingway\n",
            "Epoch:  51 | Train loss: 0.175 | Val loss: 0.291 | Gen: ethay airway onditiongcay isway orkingway\n",
            "Epoch:  52 | Train loss: 0.084 | Val loss: 0.125 | Gen: ethay airway onditiongway isway orkingway\n",
            "Epoch:  53 | Train loss: 0.038 | Val loss: 0.070 | Gen: ethay airway onditioningcay isway orkingway\n",
            "Epoch:  54 | Train loss: 0.017 | Val loss: 0.066 | Gen: ethay airway onditioningcay isway orkingway\n",
            "Epoch:  55 | Train loss: 0.012 | Val loss: 0.067 | Gen: ethay airway onditioningcay isway orkingway\n",
            "Epoch:  56 | Train loss: 0.009 | Val loss: 0.060 | Gen: ethay airway onditioningcay isway orkingway\n",
            "Epoch:  57 | Train loss: 0.008 | Val loss: 0.065 | Gen: ethay airway onditioningcay isway orkingway\n",
            "Epoch:  58 | Train loss: 0.007 | Val loss: 0.070 | Gen: ethay airway onditioningcay isway orkingway\n",
            "Epoch:  59 | Train loss: 0.007 | Val loss: 0.062 | Gen: ethay airway onditioningcay isway orkingway\n",
            "Epoch:  60 | Train loss: 0.006 | Val loss: 0.058 | Gen: ethay airway onditioningcay isway orkingway\n",
            "Epoch:  61 | Train loss: 0.005 | Val loss: 0.056 | Gen: ethay airway onditioningcay isway orkingway\n",
            "Epoch:  62 | Train loss: 0.004 | Val loss: 0.055 | Gen: ethay airway onditioningcay isway orkingway\n",
            "Epoch:  63 | Train loss: 0.004 | Val loss: 0.056 | Gen: ethay airway onditioningcay isway orkingway\n",
            "Epoch:  64 | Train loss: 0.004 | Val loss: 0.050 | Gen: ethay airway onditioningcay isway orkingway\n",
            "Epoch:  65 | Train loss: 0.003 | Val loss: 0.049 | Gen: ethay airway onditioningcay isway orkingway\n",
            "Epoch:  66 | Train loss: 0.003 | Val loss: 0.046 | Gen: ethay airway onditioningcay isway orkingway\n",
            "Epoch:  67 | Train loss: 0.003 | Val loss: 0.044 | Gen: ethay airway onditioningcay isway orkingway\n",
            "Epoch:  68 | Train loss: 0.002 | Val loss: 0.043 | Gen: ethay airway onditioningcay isway orkingway\n",
            "Epoch:  69 | Train loss: 0.002 | Val loss: 0.041 | Gen: ethay airway onditioningcay isway orkingway\n",
            "Epoch:  70 | Train loss: 0.002 | Val loss: 0.040 | Gen: ethay airway onditioningcay isway orkingway\n",
            "Epoch:  71 | Train loss: 0.002 | Val loss: 0.039 | Gen: ethay airway onditioningcay isway orkingway\n",
            "Epoch:  72 | Train loss: 0.002 | Val loss: 0.038 | Gen: ethay airway onditioningcay isway orkingway\n",
            "Epoch:  73 | Train loss: 0.002 | Val loss: 0.037 | Gen: ethay airway onditioningcay isway orkingway\n",
            "Epoch:  74 | Train loss: 0.002 | Val loss: 0.036 | Gen: ethay airway onditioningcay isway orkingway\n",
            "Epoch:  75 | Train loss: 0.001 | Val loss: 0.036 | Gen: ethay airway onditioningcay isway orkingway\n",
            "Epoch:  76 | Train loss: 0.001 | Val loss: 0.035 | Gen: ethay airway onditioningcay isway orkingway\n",
            "Epoch:  77 | Train loss: 0.001 | Val loss: 0.035 | Gen: ethay airway onditioningcay isway orkingway\n",
            "Epoch:  78 | Train loss: 0.001 | Val loss: 0.035 | Gen: ethay airway onditioningcay isway orkingway\n",
            "Epoch:  79 | Train loss: 0.002 | Val loss: 0.101 | Gen: ethay airway onditioncac isway orkingway\n",
            "Epoch:  80 | Train loss: 0.300 | Val loss: 0.289 | Gen: etay airway onditionimndcay isway orkingwdway\n",
            "Epoch:  81 | Train loss: 0.173 | Val loss: 0.154 | Gen: ethay airway onditiongcay isway orkingway\n",
            "Epoch:  82 | Train loss: 0.071 | Val loss: 0.105 | Gen: ethay airway onditionicgcay isway orkingway\n",
            "Epoch:  83 | Train loss: 0.028 | Val loss: 0.066 | Gen: ethay airway onditioningcay isway orkingway\n",
            "Epoch:  84 | Train loss: 0.013 | Val loss: 0.059 | Gen: ethay airway onditioningcay isway orkingway\n",
            "Epoch:  85 | Train loss: 0.009 | Val loss: 0.050 | Gen: ethay airway onditioningcay isway orkingway\n",
            "Epoch:  86 | Train loss: 0.006 | Val loss: 0.049 | Gen: ethay airway onditioningcay isway orkingway\n",
            "Epoch:  87 | Train loss: 0.005 | Val loss: 0.044 | Gen: ethay airway onditioningcay isway orkingway\n",
            "Epoch:  88 | Train loss: 0.005 | Val loss: 0.044 | Gen: ethay airway onditioningcay isway orkingway\n",
            "Epoch:  89 | Train loss: 0.004 | Val loss: 0.044 | Gen: ethay airway onditioningcay isway orkingway\n",
            "Epoch:  90 | Train loss: 0.004 | Val loss: 0.042 | Gen: ethay airway onditioningcay isway orkingway\n",
            "Epoch:  91 | Train loss: 0.003 | Val loss: 0.042 | Gen: ethay airway onditioningcay isway orkingway\n",
            "Epoch:  92 | Train loss: 0.003 | Val loss: 0.042 | Gen: ethay airway onditioningcay isway orkingway\n",
            "Epoch:  93 | Train loss: 0.003 | Val loss: 0.041 | Gen: ethay airway onditioningcay isway orkingway\n",
            "Epoch:  94 | Train loss: 0.003 | Val loss: 0.041 | Gen: ethay airway onditioningcay isway orkingway\n",
            "Epoch:  95 | Train loss: 0.002 | Val loss: 0.041 | Gen: ethay airway onditioningcay isway orkingway\n",
            "Epoch:  96 | Train loss: 0.002 | Val loss: 0.041 | Gen: ethay airway onditioningcay isway orkingway\n",
            "Epoch:  97 | Train loss: 0.002 | Val loss: 0.041 | Gen: ethay airway onditioningcay isway orkingway\n",
            "Epoch:  98 | Train loss: 0.002 | Val loss: 0.040 | Gen: ethay airway onditioningcay isway orkingway\n",
            "Epoch:  99 | Train loss: 0.002 | Val loss: 0.040 | Gen: ethay airway onditioningcay isway orkingway\n",
            "source:\t\tthe air conditioning is working \n",
            "translated:\tethay airway onditioningcay isway orkingway\n"
          ],
          "name": "stdout"
        }
      ]
    },
    {
      "cell_type": "code",
      "metadata": {
        "id": "51T3Gpk8orOE",
        "colab_type": "code",
        "outputId": "cde2a998-ff06-4773-f4f6-5af9aa212a79",
        "colab": {
          "base_uri": "https://localhost:8080/",
          "height": 85
        }
      },
      "source": [
        "TEST_SENTENCE = 'the air conditioning is working'\n",
        "translated = translate_sentence(TEST_SENTENCE, rnn_attn_encoder, rnn_attn_decoder, None, args)\n",
        "print(\"source:\\t\\t{} \\ntranslated:\\t{}\".format(TEST_SENTENCE, translated))\n",
        "\n",
        "TEST_SENTENCE = 'this string should be relatively difficult to explain to anthropologists'\n",
        "translated = translate_sentence(TEST_SENTENCE, rnn_attn_encoder, rnn_attn_decoder, None, args)\n",
        "print(\"source:\\t\\t{} \\ntranslated:\\t{}\".format(TEST_SENTENCE, translated))"
      ],
      "execution_count": 15,
      "outputs": [
        {
          "output_type": "stream",
          "text": [
            "source:\t\tthe air conditioning is working \n",
            "translated:\tethay airway onditioningcay isway orkingway\n",
            "source:\t\tthis string should be relatively difficult to explain to anthropologists \n",
            "translated:\tisthay ingstray ouldshay ebay elativelyray ifficultday otay explainway otay anthropoogistsway\n"
          ],
          "name": "stdout"
        }
      ]
    },
    {
      "cell_type": "markdown",
      "metadata": {
        "id": "xqgEUU0XleN0",
        "colab_type": "text"
      },
      "source": [
        "## RNN attention decoder Scaled Dot Product Context"
      ]
    },
    {
      "cell_type": "code",
      "metadata": {
        "id": "NZGg270GliKX",
        "colab_type": "code",
        "outputId": "765a6669-0187-454a-8a69-08865c30801d",
        "colab": {
          "base_uri": "https://localhost:8080/",
          "height": 2247
        }
      },
      "source": [
        "TEST_SENTENCE = 'the air conditioning is working'\n",
        "\n",
        "args = AttrDict()\n",
        "args_dict = {\n",
        "              'cuda':True, \n",
        "              'nepochs':100, \n",
        "              'checkpoint_dir':\"checkpoints\", \n",
        "              'learning_rate':0.005, \n",
        "              'lr_decay':0.99,\n",
        "              'batch_size':64, \n",
        "              'hidden_size':20, \n",
        "              'decoder_type': 'rnn_attention', # options: rnn / rnn_attention / transformer\n",
        "              'attention_type': 'scaled_dot', # options: additive / scaled_dot\n",
        "}\n",
        "args.update(args_dict)\n",
        "\n",
        "print_opts(args)\n",
        "rnn_attn_encoder2, rnn_attn_decoder2 = train(args)\n",
        "\n",
        "translated = translate_sentence(TEST_SENTENCE, rnn_attn_encoder2, rnn_attn_decoder2, None, args)\n",
        "print(\"source:\\t\\t{} \\ntranslated:\\t{}\".format(TEST_SENTENCE, translated))"
      ],
      "execution_count": 16,
      "outputs": [
        {
          "output_type": "stream",
          "text": [
            "================================================================================\n",
            "                                      Opts                                      \n",
            "--------------------------------------------------------------------------------\n",
            "                            hidden_size: 20                                     \n",
            "                          learning_rate: 0.005                                  \n",
            "                             batch_size: 64                                     \n",
            "                                nepochs: 100                                    \n",
            "                                   cuda: 1                                      \n",
            "                         checkpoint_dir: checkpoints                            \n",
            "                           decoder_type: rnn_attention                          \n",
            "                               lr_decay: 0.99                                   \n",
            "                         attention_type: scaled_dot                             \n",
            "================================================================================\n",
            "================================================================================\n",
            "                                   Data Stats                                   \n",
            "--------------------------------------------------------------------------------\n",
            "('payment', 'aymentpay')\n",
            "('ordination', 'ordinationway')\n",
            "('amends', 'amendsway')\n",
            "('principally', 'incipallypray')\n",
            "('anybody', 'anybodyway')\n",
            "Num unique word pairs: 6387\n",
            "Vocabulary: ['EOS', '-', 'SOS', 'a', 'c', 'b', 'e', 'd', 'g', 'f', 'i', 'h', 'k', 'j', 'm', 'l', 'o', 'n', 'q', 'p', 's', 'r', 'u', 't', 'w', 'v', 'y', 'x', 'z']\n",
            "Vocab size: 29\n",
            "================================================================================\n",
            "Moved models to GPU!\n"
          ],
          "name": "stdout"
        },
        {
          "output_type": "stream",
          "text": [
            "/usr/local/lib/python2.7/dist-packages/torch/serialization.py:256: UserWarning: Couldn't retrieve source code for container of type ScaledDotAttention. It won't be checked for correctness upon loading.\n",
            "  \"type \" + obj.__name__ + \". It won't be checked \"\n"
          ],
          "name": "stderr"
        },
        {
          "output_type": "stream",
          "text": [
            "Epoch:   0 | Train loss: 2.370 | Val loss: 1.968 | Gen: eesesay ay oncensay eray oncay\n",
            "Epoch:   1 | Train loss: 1.850 | Val loss: 1.715 | Gen: estay aray ongcay iontay ongcay\n",
            "Epoch:   2 | Train loss: 1.610 | Val loss: 1.544 | Gen: esteay arttay oningsay isttay ongsay\n",
            "Epoch:   3 | Train loss: 1.427 | Val loss: 1.413 | Gen: essay ateray oningingsay istay oungsay\n",
            "Epoch:   4 | Train loss: 1.287 | Val loss: 1.270 | Gen: estay allray ontiningway istay oringsingway\n",
            "Epoch:   5 | Train loss: 1.125 | Val loss: 1.167 | Gen: eaysay airarray ontitingway istay orkingnay\n",
            "Epoch:   6 | Train loss: 1.028 | Val loss: 1.016 | Gen: eway alrray ondticinglay istay orkingway\n",
            "Epoch:   7 | Train loss: 0.867 | Val loss: 0.889 | Gen: eway alrray onditionglay istray orkingway\n",
            "Epoch:   8 | Train loss: 0.800 | Val loss: 0.862 | Gen: eway alrray onditionglay issay orkinghay\n",
            "Epoch:   9 | Train loss: 0.766 | Val loss: 0.875 | Gen: eway airarray onditiongway istay orkingway\n",
            "Epoch:  10 | Train loss: 0.667 | Val loss: 0.682 | Gen: eway airray onditiongnay isstay orkingway\n",
            "Epoch:  11 | Train loss: 0.562 | Val loss: 0.667 | Gen: eway airway onditiongway isway orkingway\n",
            "Epoch:  12 | Train loss: 0.564 | Val loss: 0.623 | Gen: epay airway onditiongway isway orkingway\n",
            "Epoch:  13 | Train loss: 0.501 | Val loss: 0.563 | Gen: eway airway onditiongway isway orkingway\n",
            "Epoch:  14 | Train loss: 0.427 | Val loss: 0.539 | Gen: eway airway onditiongway isway orkingway\n",
            "Epoch:  15 | Train loss: 0.401 | Val loss: 0.514 | Gen: eway airway onditionglay isway orkingway\n",
            "Epoch:  16 | Train loss: 0.406 | Val loss: 0.626 | Gen: epay airway onditiongway isway orkingway\n",
            "Epoch:  17 | Train loss: 0.400 | Val loss: 0.477 | Gen: epay airsay onditiongway isway orkingway\n",
            "Epoch:  18 | Train loss: 0.341 | Val loss: 0.463 | Gen: eway airway onditiongway isway orkingway\n",
            "Epoch:  19 | Train loss: 0.341 | Val loss: 0.418 | Gen: ehay airway onditiongway isway orkingway\n",
            "Epoch:  20 | Train loss: 0.283 | Val loss: 0.383 | Gen: ehay airway onditiongway isway orkingway\n",
            "Epoch:  21 | Train loss: 0.257 | Val loss: 0.388 | Gen: ehay airway onditiongway isway orkingway\n",
            "Epoch:  22 | Train loss: 0.235 | Val loss: 0.344 | Gen: epay airayday onditioningcay isay orkingway\n",
            "Epoch:  23 | Train loss: 0.271 | Val loss: 0.525 | Gen: esay airaysay onditioninglay isway orkingway\n",
            "Epoch:  24 | Train loss: 0.310 | Val loss: 0.389 | Gen: ehay airway onditiongnay isway orkingway\n",
            "Epoch:  25 | Train loss: 0.266 | Val loss: 0.404 | Gen: ehay airway onditiongway isway orkingway\n",
            "Epoch:  26 | Train loss: 0.429 | Val loss: 0.404 | Gen: ehay airway onditioninglay isway orkingway\n",
            "Epoch:  27 | Train loss: 0.235 | Val loss: 0.390 | Gen: ehay airway onditionkway isway orkingway\n",
            "Epoch:  28 | Train loss: 0.200 | Val loss: 0.352 | Gen: ehay airway onditionkway isway orkingway\n",
            "Epoch:  29 | Train loss: 0.159 | Val loss: 0.301 | Gen: ehay airway onditioningcay isway orkingway\n",
            "Epoch:  30 | Train loss: 0.135 | Val loss: 0.281 | Gen: ehay airway onditioninglay isway orkingway\n",
            "Epoch:  31 | Train loss: 0.134 | Val loss: 0.285 | Gen: ehay airway onditioningway isway orkingway\n",
            "Epoch:  32 | Train loss: 0.114 | Val loss: 0.269 | Gen: ehay airway onditioningcay isway orkingway\n",
            "Epoch:  33 | Train loss: 0.104 | Val loss: 0.275 | Gen: ehay airway onditioningcay isway orkingway\n",
            "Epoch:  34 | Train loss: 0.098 | Val loss: 0.266 | Gen: estay airway onditioningway isway orkingway\n",
            "Epoch:  35 | Train loss: 0.102 | Val loss: 0.331 | Gen: estay airway onditioninglay isway orkingway\n",
            "Epoch:  36 | Train loss: 0.121 | Val loss: 0.289 | Gen: ehtay airway onditioninglay isway orkingway\n",
            "Epoch:  37 | Train loss: 0.099 | Val loss: 0.267 | Gen: esthay airway onditioningcay isway orkingway\n",
            "Epoch:  38 | Train loss: 0.101 | Val loss: 0.311 | Gen: ehay airway onditionkway isway orkingway\n",
            "Epoch:  39 | Train loss: 0.180 | Val loss: 0.324 | Gen: espay airway onditioningnay isway orkingway\n",
            "Epoch:  40 | Train loss: 0.199 | Val loss: 0.318 | Gen: ehay airway onditioningcay isway orkingway\n",
            "Epoch:  41 | Train loss: 0.113 | Val loss: 0.220 | Gen: ehay airway onditioningcay isway orkingway\n",
            "Epoch:  42 | Train loss: 0.095 | Val loss: 0.212 | Gen: ehay airway onditioningcay isway orkingway\n",
            "Epoch:  43 | Train loss: 0.087 | Val loss: 0.227 | Gen: ehay airway onditioningcay isway orkingway\n",
            "Epoch:  44 | Train loss: 0.105 | Val loss: 0.251 | Gen: epay airway onditioningcay isway orkingway\n",
            "Epoch:  45 | Train loss: 0.066 | Val loss: 0.191 | Gen: epay airway onditioningcay isway orkingway\n",
            "Epoch:  46 | Train loss: 0.059 | Val loss: 0.203 | Gen: epay airway onditioningcay isway orkingway\n",
            "Epoch:  47 | Train loss: 0.042 | Val loss: 0.164 | Gen: epay airway onditioningcay isway orkingway\n",
            "Epoch:  48 | Train loss: 0.032 | Val loss: 0.161 | Gen: epay airway onditioningcay isway orkingway\n",
            "Epoch:  49 | Train loss: 0.028 | Val loss: 0.151 | Gen: epay airway onditioningcay isway orkingway\n",
            "Epoch:  50 | Train loss: 0.041 | Val loss: 0.206 | Gen: epay airway onditioningcay isway orkingway\n",
            "Epoch:  51 | Train loss: 0.049 | Val loss: 0.187 | Gen: ehay airway onditioningway isway orkingway\n",
            "Epoch:  52 | Train loss: 0.048 | Val loss: 0.143 | Gen: espay airway onditioningcay isway orkingway\n",
            "Epoch:  53 | Train loss: 0.033 | Val loss: 0.142 | Gen: espay airway onditioningcay isway orkingway\n",
            "Epoch:  54 | Train loss: 0.024 | Val loss: 0.154 | Gen: espay airway onditioningcay isway orkingway\n",
            "Epoch:  55 | Train loss: 0.021 | Val loss: 0.135 | Gen: espay airway onditioningcay isway orkingway\n",
            "Epoch:  56 | Train loss: 0.019 | Val loss: 0.134 | Gen: espay airway onditioningcay isway orkingway\n",
            "Epoch:  57 | Train loss: 0.016 | Val loss: 0.137 | Gen: espay airway onditioningcay isway orkingway\n",
            "Epoch:  58 | Train loss: 0.015 | Val loss: 0.130 | Gen: espay airway onditioningcay isway orkingway\n",
            "Epoch:  59 | Train loss: 0.014 | Val loss: 0.144 | Gen: espay airway onditioningcay isway orkingway\n",
            "Epoch:  60 | Train loss: 0.012 | Val loss: 0.136 | Gen: espay airway onditioningcay isway orkingway\n",
            "Epoch:  61 | Train loss: 0.012 | Val loss: 0.160 | Gen: espay airway onditioningcay isway orkingway\n",
            "Epoch:  62 | Train loss: 0.099 | Val loss: 0.671 | Gen: efay-pay airway onditioninglay isway orkingway\n",
            "Epoch:  63 | Train loss: 0.334 | Val loss: 0.432 | Gen: espay airway onditionftay isway orkingway\n",
            "Epoch:  64 | Train loss: 0.175 | Val loss: 0.291 | Gen: epay airway onditioningcay isatway orkingway\n",
            "Epoch:  65 | Train loss: 0.081 | Val loss: 0.186 | Gen: ehay airway onditioningcay isisiay orkingway\n",
            "Epoch:  66 | Train loss: 0.058 | Val loss: 0.164 | Gen: ethay airway onditioningcay isisiway orkingway\n",
            "Epoch:  67 | Train loss: 0.044 | Val loss: 0.139 | Gen: ethay airway onditioningcay isway orkingway\n",
            "Epoch:  68 | Train loss: 0.030 | Val loss: 0.132 | Gen: ethay airway onditioningcay isway orkingway\n",
            "Epoch:  69 | Train loss: 0.025 | Val loss: 0.129 | Gen: ethay airway onditioningcay isway orkingway\n",
            "Epoch:  70 | Train loss: 0.019 | Val loss: 0.129 | Gen: ethay airway onditioningcay isway orkingway\n",
            "Epoch:  71 | Train loss: 0.016 | Val loss: 0.126 | Gen: ethay airway onditioningcay isway orkingway\n",
            "Epoch:  72 | Train loss: 0.015 | Val loss: 0.121 | Gen: ethay airway onditioningcay isway orkingway\n",
            "Epoch:  73 | Train loss: 0.013 | Val loss: 0.122 | Gen: ethay airway onditioningcay isway orkingway\n",
            "Epoch:  74 | Train loss: 0.012 | Val loss: 0.120 | Gen: ethay airway onditioningcay isway orkingway\n",
            "Epoch:  75 | Train loss: 0.011 | Val loss: 0.120 | Gen: ethay airway onditioningcay isway orkingway\n",
            "Epoch:  76 | Train loss: 0.012 | Val loss: 0.120 | Gen: ethay airway onditioningcay isway orkingway\n",
            "Epoch:  77 | Train loss: 0.010 | Val loss: 0.119 | Gen: ethay airway onditioningcay isway orkingway\n",
            "Epoch:  78 | Train loss: 0.009 | Val loss: 0.118 | Gen: ethay airway onditioningcay isway orkingway\n",
            "Epoch:  79 | Train loss: 0.010 | Val loss: 0.131 | Gen: ethay airway onditioningcay isway orkingway\n",
            "Epoch:  80 | Train loss: 0.043 | Val loss: 0.288 | Gen: espay airway onditioningcay isway orkingway\n",
            "Epoch:  81 | Train loss: 0.143 | Val loss: 0.282 | Gen: ethay airway onditionfay isway orkingway\n",
            "Epoch:  82 | Train loss: 0.088 | Val loss: 0.167 | Gen: ehpay airway onditioningcay isway orkingway\n",
            "Epoch:  83 | Train loss: 0.097 | Val loss: 0.319 | Gen: isthay airway onditioningcay isway orkingway\n",
            "Epoch:  84 | Train loss: 0.134 | Val loss: 0.252 | Gen: ephay airway onditioncay isway orkingway\n",
            "Epoch:  85 | Train loss: 0.064 | Val loss: 0.134 | Gen: ephay airway onditioningcay isway orkingway\n",
            "Epoch:  86 | Train loss: 0.030 | Val loss: 0.126 | Gen: ephay airway onditioningcay isway orkingway\n",
            "Epoch:  87 | Train loss: 0.020 | Val loss: 0.124 | Gen: espay airway onditioningcay isway orkingway\n",
            "Epoch:  88 | Train loss: 0.017 | Val loss: 0.123 | Gen: ephay airway onditioningcay isway orkingway\n",
            "Epoch:  89 | Train loss: 0.014 | Val loss: 0.125 | Gen: ephay airway onditioningcay isway orkingway\n",
            "Epoch:  90 | Train loss: 0.012 | Val loss: 0.125 | Gen: ephay airway onditioningcay isway orkingway\n",
            "Epoch:  91 | Train loss: 0.011 | Val loss: 0.125 | Gen: espay airway onditioningcay isway orkingway\n",
            "Epoch:  92 | Train loss: 0.010 | Val loss: 0.126 | Gen: espay airway onditioningcay isway orkingway\n",
            "Epoch:  93 | Train loss: 0.009 | Val loss: 0.126 | Gen: espay airway onditioningcay isway orkingway\n",
            "Epoch:  94 | Train loss: 0.009 | Val loss: 0.124 | Gen: espay airway onditioningcay isway orkingway\n",
            "Epoch:  95 | Train loss: 0.008 | Val loss: 0.125 | Gen: espay airway onditioningcay isway orkingway\n",
            "Epoch:  96 | Train loss: 0.008 | Val loss: 0.124 | Gen: espay airway onditioningcay isway orkingway\n",
            "Epoch:  97 | Train loss: 0.007 | Val loss: 0.125 | Gen: espay airway onditioningcay isway orkingway\n",
            "Epoch:  98 | Train loss: 0.007 | Val loss: 0.124 | Gen: espay airway onditioningcay isway orkingway\n",
            "Epoch:  99 | Train loss: 0.006 | Val loss: 0.126 | Gen: espay airway onditioningcay isway orkingway\n",
            "source:\t\tthe air conditioning is working \n",
            "translated:\tespay airway onditioningcay isway orkingway\n"
          ],
          "name": "stdout"
        }
      ]
    },
    {
      "cell_type": "code",
      "metadata": {
        "id": "dpdpedrGq73-",
        "colab_type": "code",
        "colab": {
          "base_uri": "https://localhost:8080/",
          "height": 85
        },
        "outputId": "1ee0bf5e-33e9-43b8-c02e-d0d9bff11df4"
      },
      "source": [
        "TEST_SENTENCE = 'the air conditioning is working'\n",
        "translated = translate_sentence(TEST_SENTENCE, rnn_attn_encoder2, rnn_attn_decoder2, None, args)\n",
        "print(\"source:\\t\\t{} \\ntranslated:\\t{}\".format(TEST_SENTENCE, translated))\n",
        "\n",
        "TEST_SENTENCE = 'this string should be relatively difficult to explain to anthropologists'\n",
        "translated = translate_sentence(TEST_SENTENCE, rnn_attn_encoder2, rnn_attn_decoder2, None, args)\n",
        "print(\"source:\\t\\t{} \\ntranslated:\\t{}\".format(TEST_SENTENCE, translated))"
      ],
      "execution_count": 17,
      "outputs": [
        {
          "output_type": "stream",
          "text": [
            "source:\t\tthe air conditioning is working \n",
            "translated:\tespay airway onditioningcay isway orkingway\n",
            "source:\t\tthis string should be relatively difficult to explain to anthropologists \n",
            "translated:\tisthay ingstray ouldshay ebay elativelyray ifficultday otay explainway otay anthropopodtsway\n"
          ],
          "name": "stdout"
        }
      ]
    },
    {
      "cell_type": "markdown",
      "metadata": {
        "id": "X8FaZZUWRpY9",
        "colab_type": "text"
      },
      "source": [
        "## Transformer"
      ]
    },
    {
      "cell_type": "code",
      "metadata": {
        "id": "Ik5rx9qw9KCg",
        "colab_type": "code",
        "outputId": "246728bf-2896-46a8-df31-f038ae31e77b",
        "colab": {
          "base_uri": "https://localhost:8080/",
          "height": 2281
        }
      },
      "source": [
        "TEST_SENTENCE = 'the air conditioning is working'\n",
        "\n",
        "args = AttrDict()\n",
        "args_dict = {\n",
        "              'cuda':True, \n",
        "              'nepochs':100, \n",
        "              'checkpoint_dir':\"checkpoints\", \n",
        "              'learning_rate':0.005, \n",
        "              'lr_decay':0.99,\n",
        "              'batch_size':64, \n",
        "              'hidden_size':20, \n",
        "              'decoder_type': 'transformer', # options: rnn / rnn_attention / transformer\n",
        "              'num_transformer_layers': 3,\n",
        "}\n",
        "args.update(args_dict)\n",
        "\n",
        "print_opts(args)\n",
        "transformer_encoder, transformer_decoder = train(args)\n",
        "\n",
        "translated = translate_sentence(TEST_SENTENCE, transformer_encoder, transformer_decoder, None, args)\n",
        "print(\"source:\\t\\t{} \\ntranslated:\\t{}\".format(TEST_SENTENCE, translated))"
      ],
      "execution_count": 18,
      "outputs": [
        {
          "output_type": "stream",
          "text": [
            "================================================================================\n",
            "                                      Opts                                      \n",
            "--------------------------------------------------------------------------------\n",
            "                            hidden_size: 20                                     \n",
            "                          learning_rate: 0.005                                  \n",
            "                 num_transformer_layers: 3                                      \n",
            "                             batch_size: 64                                     \n",
            "                                nepochs: 100                                    \n",
            "                                   cuda: 1                                      \n",
            "                         checkpoint_dir: checkpoints                            \n",
            "                           decoder_type: transformer                            \n",
            "                               lr_decay: 0.99                                   \n",
            "================================================================================\n",
            "================================================================================\n",
            "                                   Data Stats                                   \n",
            "--------------------------------------------------------------------------------\n",
            "('payment', 'aymentpay')\n",
            "('ordination', 'ordinationway')\n",
            "('amends', 'amendsway')\n",
            "('principally', 'incipallypray')\n",
            "('anybody', 'anybodyway')\n",
            "Num unique word pairs: 6387\n",
            "Vocabulary: ['EOS', '-', 'SOS', 'a', 'c', 'b', 'e', 'd', 'g', 'f', 'i', 'h', 'k', 'j', 'm', 'l', 'o', 'n', 'q', 'p', 's', 'r', 'u', 't', 'w', 'v', 'y', 'x', 'z']\n",
            "Vocab size: 29\n",
            "================================================================================\n",
            "Moved models to GPU!\n"
          ],
          "name": "stdout"
        },
        {
          "output_type": "stream",
          "text": [
            "/usr/local/lib/python2.7/dist-packages/torch/serialization.py:256: UserWarning: Couldn't retrieve source code for container of type TransformerDecoder. It won't be checked for correctness upon loading.\n",
            "  \"type \" + obj.__name__ + \". It won't be checked \"\n",
            "/usr/local/lib/python2.7/dist-packages/torch/serialization.py:256: UserWarning: Couldn't retrieve source code for container of type CausalScaledDotAttention. It won't be checked for correctness upon loading.\n",
            "  \"type \" + obj.__name__ + \". It won't be checked \"\n"
          ],
          "name": "stderr"
        },
        {
          "output_type": "stream",
          "text": [
            "Epoch:   0 | Train loss: 2.168 | Val loss: 1.717 | Gen: edtitay aistay ingiooongiooooongioo issstsssssssssssssss oungay\n",
            "Epoch:   1 | Train loss: 1.557 | Val loss: 1.356 | Gen: ehthehay airairay ongitiongiongiongway ishay ouringringray\n",
            "Epoch:   2 | Train loss: 1.206 | Val loss: 1.076 | Gen: eway airway onditionday ishay oringhinghay\n",
            "Epoch:   3 | Train loss: 0.962 | Val loss: 0.894 | Gen: ethay airway onditiongay isway orkinghay\n",
            "Epoch:   4 | Train loss: 0.790 | Val loss: 0.737 | Gen: ethay airway onditiniongcay isway orkingay\n",
            "Epoch:   5 | Train loss: 0.661 | Val loss: 0.656 | Gen: ethay airway onditiongcay isway orkinghay\n",
            "Epoch:   6 | Train loss: 0.505 | Val loss: 0.547 | Gen: ethay airway ondionionionionionio isway orkingway\n",
            "Epoch:   7 | Train loss: 0.448 | Val loss: 0.490 | Gen: ethay airway onditingcay isway orkingway\n",
            "Epoch:   8 | Train loss: 0.365 | Val loss: 0.464 | Gen: ethay airway onditiongcay isway orkingway\n",
            "Epoch:   9 | Train loss: 0.327 | Val loss: 0.397 | Gen: ethay airway ondiningcay isway orkingway\n",
            "Epoch:  10 | Train loss: 0.314 | Val loss: 0.368 | Gen: ethay airway onditiongcay isway orkingway\n",
            "Epoch:  11 | Train loss: 0.272 | Val loss: 0.336 | Gen: ethay airway onditingcay isway orkingway\n",
            "Epoch:  12 | Train loss: 0.252 | Val loss: 0.273 | Gen: ethay airway onditingcay isway orkingway\n",
            "Epoch:  13 | Train loss: 0.171 | Val loss: 0.246 | Gen: ethay airway onditingcay isway orkingway\n",
            "Epoch:  14 | Train loss: 0.144 | Val loss: 0.316 | Gen: ethay airway onditingcay isway orkingway\n",
            "Epoch:  15 | Train loss: 0.209 | Val loss: 0.313 | Gen: ethay airway onditininingcay isway orkingway\n",
            "Epoch:  16 | Train loss: 0.177 | Val loss: 0.263 | Gen: ethay airway onditinininingcay isway orkingway\n",
            "Epoch:  17 | Train loss: 0.261 | Val loss: 0.375 | Gen: ethay airway ondioningcay isway orkingway\n",
            "Epoch:  18 | Train loss: 0.247 | Val loss: 0.274 | Gen: ethay airway onditiscay isway orkingway\n",
            "Epoch:  19 | Train loss: 0.169 | Val loss: 0.238 | Gen: ethay airway onditingcay isway orkingway\n",
            "Epoch:  20 | Train loss: 0.123 | Val loss: 0.204 | Gen: ethay airway onditiongcay isway orkingway\n",
            "Epoch:  21 | Train loss: 0.090 | Val loss: 0.150 | Gen: ethay airway onditioningcay isway orkingway\n",
            "Epoch:  22 | Train loss: 0.103 | Val loss: 0.187 | Gen: ethay airway onditingcay isway orkingway\n",
            "Epoch:  23 | Train loss: 0.081 | Val loss: 0.161 | Gen: ethay airway ondititingcay isway orkingway\n",
            "Epoch:  24 | Train loss: 0.060 | Val loss: 0.139 | Gen: ethay airway onditingcay isway orkingway\n",
            "Epoch:  25 | Train loss: 0.052 | Val loss: 0.143 | Gen: ethay airway ondititingcay isway orkingway\n",
            "Epoch:  26 | Train loss: 0.124 | Val loss: 0.271 | Gen: ethawhay airway onditiongcay isway orkingway\n",
            "Epoch:  27 | Train loss: 0.116 | Val loss: 0.145 | Gen: ethay airway onditioniongcy isway orkingway\n",
            "Epoch:  28 | Train loss: 0.103 | Val loss: 0.173 | Gen: ethay airway ondititingcay isway orkingway\n",
            "Epoch:  29 | Train loss: 0.116 | Val loss: 0.215 | Gen: ethay airway ondititingcay isway orkingway\n",
            "Epoch:  30 | Train loss: 0.117 | Val loss: 0.130 | Gen: ethay airway ondititingcay isway orkingway\n",
            "Epoch:  31 | Train loss: 0.067 | Val loss: 0.094 | Gen: ethay airway onditiongcay isway orkingway\n",
            "Epoch:  32 | Train loss: 0.083 | Val loss: 0.175 | Gen: ethay airway ondititingcay isway orkingway\n",
            "Epoch:  33 | Train loss: 0.077 | Val loss: 0.127 | Gen: ethay airway onditingcay isway orkingway\n",
            "Epoch:  34 | Train loss: 0.042 | Val loss: 0.117 | Gen: ethay airway ondititingcay isway orkingway\n",
            "Epoch:  35 | Train loss: 0.041 | Val loss: 0.109 | Gen: ethay airway ondititingcay isway orkingway\n",
            "Epoch:  36 | Train loss: 0.040 | Val loss: 0.098 | Gen: ethay airway ondititingcay isway orkingway\n",
            "Epoch:  37 | Train loss: 0.047 | Val loss: 0.154 | Gen: ethay airway ondititingcay isway orkingway\n",
            "Epoch:  38 | Train loss: 0.094 | Val loss: 0.176 | Gen: ethay airway onditiongcay isway orkingway\n",
            "Epoch:  39 | Train loss: 0.114 | Val loss: 0.136 | Gen: ethay airway onditingcay isway orkingway\n",
            "Epoch:  40 | Train loss: 0.057 | Val loss: 0.124 | Gen: ethay airway onditingcay isway orkingway\n",
            "Epoch:  41 | Train loss: 0.075 | Val loss: 0.173 | Gen: ethay airway onditingcay isway orkingway\n",
            "Epoch:  42 | Train loss: 0.053 | Val loss: 0.086 | Gen: ethay airway ondititingcay isway orkingway\n",
            "Epoch:  43 | Train loss: 0.036 | Val loss: 0.068 | Gen: ethay airway ondititingcay isway orkingway\n",
            "Epoch:  44 | Train loss: 0.026 | Val loss: 0.072 | Gen: ethay airway ondititingcay isway orkingway\n",
            "Epoch:  45 | Train loss: 0.018 | Val loss: 0.056 | Gen: ethay airway ondititingcay isway orkingway\n",
            "Epoch:  46 | Train loss: 0.016 | Val loss: 0.078 | Gen: ethay airway ondititingconinining isway orkingway\n",
            "Epoch:  47 | Train loss: 0.017 | Val loss: 0.063 | Gen: ethay airway ondititingcay isway orkingway\n",
            "Epoch:  48 | Train loss: 0.032 | Val loss: 0.093 | Gen: ethay airway onditiongcininingcon isway orkingway\n",
            "Epoch:  49 | Train loss: 0.095 | Val loss: 0.248 | Gen: ethay airway onditiongcay isway orkingway\n",
            "Epoch:  50 | Train loss: 0.086 | Val loss: 0.086 | Gen: ethay airway onditiongcay isway orkingway\n",
            "Epoch:  51 | Train loss: 0.039 | Val loss: 0.075 | Gen: ethay airway ondititingcay isway orkingway\n",
            "Epoch:  52 | Train loss: 0.022 | Val loss: 0.096 | Gen: ethay airway onditiongcay isway orkingway\n",
            "Epoch:  53 | Train loss: 0.015 | Val loss: 0.065 | Gen: ethay airway onditioningcay isway orkingway\n",
            "Epoch:  54 | Train loss: 0.010 | Val loss: 0.064 | Gen: ethay airway onditioningcay isway orkingway\n",
            "Epoch:  55 | Train loss: 0.031 | Val loss: 0.087 | Gen: ethay airway ondititingcay isway orkingway\n",
            "Epoch:  56 | Train loss: 0.178 | Val loss: 0.259 | Gen: ethay airway onditiongcay isway orkingway\n",
            "Epoch:  57 | Train loss: 0.092 | Val loss: 0.089 | Gen: ethay airway onditiongcay isway orkingway\n",
            "Epoch:  58 | Train loss: 0.038 | Val loss: 0.096 | Gen: ethay airway onditiongcay isway orkingway\n",
            "Epoch:  59 | Train loss: 0.037 | Val loss: 0.123 | Gen: ethay airway onditionitingcay isway orkingway\n",
            "Epoch:  60 | Train loss: 0.020 | Val loss: 0.059 | Gen: ethay airway onditionitay isway orkingway\n",
            "Epoch:  61 | Train loss: 0.010 | Val loss: 0.055 | Gen: ethay airway ondititingcay isway orkingway\n",
            "Epoch:  62 | Train loss: 0.006 | Val loss: 0.051 | Gen: ethay airway onditionitay isway orkingway\n",
            "Epoch:  63 | Train loss: 0.006 | Val loss: 0.056 | Gen: ethay airway onditionitway isway orkingway\n",
            "Epoch:  64 | Train loss: 0.007 | Val loss: 0.055 | Gen: ethay airway onditioningcay isway orkingway\n",
            "Epoch:  65 | Train loss: 0.008 | Val loss: 0.058 | Gen: ethay airway onditionitingcay isway orkingway\n",
            "Epoch:  66 | Train loss: 0.006 | Val loss: 0.057 | Gen: ethay airway onditiongcay isway orkingway\n",
            "Epoch:  67 | Train loss: 0.005 | Val loss: 0.064 | Gen: ethay airway ondititingcay isway orkingway\n",
            "Epoch:  68 | Train loss: 0.006 | Val loss: 0.062 | Gen: ethay airway onditiongcay isway orkingway\n",
            "Epoch:  69 | Train loss: 0.007 | Val loss: 0.072 | Gen: ethay airway onditiongcay isway orkingway\n",
            "Epoch:  70 | Train loss: 0.011 | Val loss: 0.062 | Gen: ethay airway ondititingcay isway orkingway\n",
            "Epoch:  71 | Train loss: 0.038 | Val loss: 0.127 | Gen: ethay airway ondititingcay isway orkingway\n",
            "Epoch:  72 | Train loss: 0.079 | Val loss: 0.203 | Gen: ethay airway ondititiningcay isway orkingway\n",
            "Epoch:  73 | Train loss: 0.080 | Val loss: 0.109 | Gen: ethay airway ondititingcay isway orkingway\n",
            "Epoch:  74 | Train loss: 0.029 | Val loss: 0.071 | Gen: ethay airway onditingcay isway orkingway\n",
            "Epoch:  75 | Train loss: 0.010 | Val loss: 0.060 | Gen: ethay airway ondititingcay isway orkingway\n",
            "Epoch:  76 | Train loss: 0.007 | Val loss: 0.060 | Gen: ethay airway onditiongcay isway orkingway\n",
            "Epoch:  77 | Train loss: 0.004 | Val loss: 0.059 | Gen: ethay airway ondititingcay isway orkingway\n",
            "Epoch:  78 | Train loss: 0.003 | Val loss: 0.057 | Gen: ethay airway onditiongcay isway orkingway\n",
            "Epoch:  79 | Train loss: 0.003 | Val loss: 0.062 | Gen: ethay airway ondititingcay isway orkingway\n",
            "Epoch:  80 | Train loss: 0.003 | Val loss: 0.060 | Gen: ethay airway onditiongcay isway orkingway\n",
            "Epoch:  81 | Train loss: 0.003 | Val loss: 0.063 | Gen: ethay airway ondititingcay isway orkingway\n",
            "Epoch:  82 | Train loss: 0.071 | Val loss: 0.223 | Gen: ethay airway onditingcay isway orkingway\n",
            "Epoch:  83 | Train loss: 0.141 | Val loss: 0.146 | Gen: ethay airway onditiningcay isway orkingway\n",
            "Epoch:  84 | Train loss: 0.081 | Val loss: 0.175 | Gen: ethay airway onditiongcay isway orkingway\n",
            "Epoch:  85 | Train loss: 0.064 | Val loss: 0.065 | Gen: ethay airway onditiongcay isway orkingway\n",
            "Epoch:  86 | Train loss: 0.021 | Val loss: 0.057 | Gen: ethay airway onditiongcay isway orkingway\n",
            "Epoch:  87 | Train loss: 0.009 | Val loss: 0.051 | Gen: ethay airway onditiningcay isway orkingway\n",
            "Epoch:  88 | Train loss: 0.005 | Val loss: 0.050 | Gen: ethay airway ondititingcay isway orkingway\n",
            "Epoch:  89 | Train loss: 0.003 | Val loss: 0.047 | Gen: ethay airway ondititingcay isway orkingway\n",
            "Epoch:  90 | Train loss: 0.002 | Val loss: 0.047 | Gen: ethay airway ondititingcay isway orkingway\n",
            "Epoch:  91 | Train loss: 0.002 | Val loss: 0.047 | Gen: ethay airway ondititingcay isway orkingway\n",
            "Epoch:  92 | Train loss: 0.002 | Val loss: 0.048 | Gen: ethay airway ondititingcay isway orkingway\n",
            "Epoch:  93 | Train loss: 0.001 | Val loss: 0.049 | Gen: ethay airway ondititingcay isway orkingway\n",
            "Epoch:  94 | Train loss: 0.001 | Val loss: 0.049 | Gen: ethay airway ondititingcay isway orkingway\n",
            "Epoch:  95 | Train loss: 0.001 | Val loss: 0.050 | Gen: ethay airway ondititingcay isway orkingway\n",
            "Epoch:  96 | Train loss: 0.001 | Val loss: 0.051 | Gen: ethay airway ondititingcay isway orkingway\n",
            "Epoch:  97 | Train loss: 0.001 | Val loss: 0.052 | Gen: ethay airway ondititingcay isway orkingway\n",
            "Epoch:  98 | Train loss: 0.001 | Val loss: 0.053 | Gen: ethay airway ondititingcay isway orkingway\n",
            "Epoch:  99 | Train loss: 0.001 | Val loss: 0.053 | Gen: ethay airway ondititingcay isway orkingway\n",
            "source:\t\tthe air conditioning is working \n",
            "translated:\tethay airway ondititingcay isway orkingway\n"
          ],
          "name": "stdout"
        }
      ]
    },
    {
      "cell_type": "code",
      "metadata": {
        "id": "ULCMHm5ZF7vx",
        "colab_type": "code",
        "colab": {
          "base_uri": "https://localhost:8080/",
          "height": 85
        },
        "outputId": "79ca5f31-671e-443c-86a4-e5a564545d5a"
      },
      "source": [
        "TEST_SENTENCE = 'the air conditioning is working'\n",
        "translated = translate_sentence(TEST_SENTENCE, transformer_encoder, transformer_decoder, None, args)\n",
        "print(\"source:\\t\\t{} \\ntranslated:\\t{}\".format(TEST_SENTENCE, translated))\n",
        "\n",
        "TEST_SENTENCE = 'this string should be relatively difficult to explain to anthropologists'\n",
        "translated = translate_sentence(TEST_SENTENCE, transformer_encoder, transformer_decoder, None, args)\n",
        "print(\"source:\\t\\t{} \\ntranslated:\\t{}\".format(TEST_SENTENCE, translated))"
      ],
      "execution_count": 19,
      "outputs": [
        {
          "output_type": "stream",
          "text": [
            "source:\t\tthe air conditioning is working \n",
            "translated:\tethay airway ondititingcay isway orkingway\n",
            "source:\t\tthis string should be relatively difficult to explain to anthropologists \n",
            "translated:\tisthay ingstray ouldshay ebay elativelyray ifficultday otay explainway otay anthropogistsway\n"
          ],
          "name": "stdout"
        }
      ]
    },
    {
      "cell_type": "markdown",
      "metadata": {
        "id": "szNDNbJ6D5Hr",
        "colab_type": "text"
      },
      "source": [
        "## Transformer Non Causal"
      ]
    },
    {
      "cell_type": "code",
      "metadata": {
        "id": "vx8TxRL0FAlV",
        "colab_type": "code",
        "colab": {
          "base_uri": "https://localhost:8080/",
          "height": 2247
        },
        "outputId": "29c05657-d9f0-43c8-bc00-3486fe506bd8"
      },
      "source": [
        "TEST_SENTENCE = 'the air conditioning is working'\n",
        "\n",
        "args = AttrDict()\n",
        "args_dict = {\n",
        "              'cuda':True, \n",
        "              'nepochs':100, \n",
        "              'checkpoint_dir':\"checkpoints\", \n",
        "              'learning_rate':0.005, \n",
        "              'lr_decay':0.99,\n",
        "              'batch_size':64, \n",
        "              'hidden_size':20, \n",
        "              'decoder_type': 'transformer_non_causal', # options: rnn / rnn_attention / transformer / transformer_non_causal\n",
        "              'num_transformer_layers': 3,\n",
        "}\n",
        "args.update(args_dict)\n",
        "\n",
        "print_opts(args)\n",
        "transformer_non_causal_encoder, transformer_non_causal_decoder = train(args)\n",
        "\n",
        "translated = translate_sentence(TEST_SENTENCE, transformer_non_causal_encoder, transformer_non_causal_decoder, None, args)\n",
        "print(\"source:\\t\\t{} \\ntranslated:\\t{}\".format(TEST_SENTENCE, translated))"
      ],
      "execution_count": 20,
      "outputs": [
        {
          "output_type": "stream",
          "text": [
            "================================================================================\n",
            "                                      Opts                                      \n",
            "--------------------------------------------------------------------------------\n",
            "                            hidden_size: 20                                     \n",
            "                          learning_rate: 0.005                                  \n",
            "                 num_transformer_layers: 3                                      \n",
            "                             batch_size: 64                                     \n",
            "                                nepochs: 100                                    \n",
            "                                   cuda: 1                                      \n",
            "                         checkpoint_dir: checkpoints                            \n",
            "                           decoder_type: transformer_non_causal                 \n",
            "                               lr_decay: 0.99                                   \n",
            "================================================================================\n",
            "================================================================================\n",
            "                                   Data Stats                                   \n",
            "--------------------------------------------------------------------------------\n",
            "('payment', 'aymentpay')\n",
            "('ordination', 'ordinationway')\n",
            "('amends', 'amendsway')\n",
            "('principally', 'incipallypray')\n",
            "('anybody', 'anybodyway')\n",
            "Num unique word pairs: 6387\n",
            "Vocabulary: ['EOS', '-', 'SOS', 'a', 'c', 'b', 'e', 'd', 'g', 'f', 'i', 'h', 'k', 'j', 'm', 'l', 'o', 'n', 'q', 'p', 's', 'r', 'u', 't', 'w', 'v', 'y', 'x', 'z']\n",
            "Vocab size: 29\n",
            "================================================================================\n",
            "Moved models to GPU!\n"
          ],
          "name": "stdout"
        },
        {
          "output_type": "stream",
          "text": [
            "/usr/local/lib/python2.7/dist-packages/torch/serialization.py:256: UserWarning: Couldn't retrieve source code for container of type TransformerDecoderNonCausal. It won't be checked for correctness upon loading.\n",
            "  \"type \" + obj.__name__ + \". It won't be checked \"\n"
          ],
          "name": "stderr"
        },
        {
          "output_type": "stream",
          "text": [
            "Epoch:   0 | Train loss: 2.128 | Val loss: 1.645 | Gen: e   iiiiiiiiiiiiiiiiiiii \n",
            "Epoch:   1 | Train loss: 1.518 | Val loss: 1.344 | Gen: ettttttttttttttttttt  ffffffffffffffffffff i ffffffffffffffffffff\n",
            "Epoch:   2 | Train loss: 1.227 | Val loss: 1.063 | Gen: eheheheheheheheheheh airrrrrrrrrrrrrrrrrr inininininininininin isdisdisdisdisdisdis oray\n",
            "Epoch:   3 | Train loss: 0.974 | Val loss: 0.873 | Gen: epay  ongay i oray  \n",
            "Epoch:   4 | Train loss: 0.790 | Val loss: 0.789 | Gen: ecay   isdisdisdisdisdisdis oray\n",
            "Epoch:   5 | Train loss: 0.659 | Val loss: 0.662 | Gen:  ayEOSayEOSayEOSarrrrrrrrrr  is orrrrrrrrrrrrrrrrrrr\n",
            "Epoch:   6 | Train loss: 0.612 | Val loss: 0.627 | Gen:   ondiondiondiondiondi is orkgway\n",
            "Epoch:   7 | Train loss: 0.547 | Val loss: 0.575 | Gen: etay ay ondititititititititi isway orrrrrrrrrrrrrrrrrrr\n",
            "Epoch:   8 | Train loss: 0.520 | Val loss: 0.543 | Gen:   ongcay isway orkay\n",
            "Epoch:   9 | Train loss: 0.469 | Val loss: 0.526 | Gen:    isway orkwaay    \n",
            "Epoch:  10 | Train loss: 0.438 | Val loss: 0.500 | Gen:    isway            \n",
            "Epoch:  11 | Train loss: 0.427 | Val loss: 0.497 | Gen: etay   isway orkingway\n",
            "Epoch:  12 | Train loss: 0.422 | Val loss: 0.487 | Gen: etay ayEOSway  isway orkingy\n",
            "Epoch:  13 | Train loss: 0.417 | Val loss: 0.511 | Gen:  airairairairairairai  isway orkingway\n",
            "Epoch:  14 | Train loss: 0.405 | Val loss: 0.479 | Gen: etay airairairairairairai  isway orkingway\n",
            "Epoch:  15 | Train loss: 0.404 | Val loss: 0.446 | Gen: etay   isway orkingway\n",
            "Epoch:  16 | Train loss: 0.394 | Val loss: 0.456 | Gen: etay ay ondiondiondiondiondi isway orkingway\n",
            "Epoch:  17 | Train loss: 0.394 | Val loss: 0.442 | Gen: etay ay  isway orkigwaay\n",
            "Epoch:  18 | Train loss: 0.382 | Val loss: 0.451 | Gen: etay  ondiondiondiondiondi isway orkingway\n",
            "Epoch:  19 | Train loss: 0.389 | Val loss: 0.436 | Gen: ethay ay  isway orkingway\n",
            "Epoch:  20 | Train loss: 0.363 | Val loss: 0.409 | Gen: etay airairairairairairai ongcay isway orkingway\n",
            "Epoch:  21 | Train loss: 0.354 | Val loss: 0.433 | Gen:   ondiondiondiondiondi isway orkingway\n",
            "Epoch:  22 | Train loss: 0.357 | Val loss: 0.416 | Gen: etay ay ondiondiondiondiondi isway orkingway\n",
            "Epoch:  23 | Train loss: 0.358 | Val loss: 0.418 | Gen: etay ay  isway orkingway\n",
            "Epoch:  24 | Train loss: 0.356 | Val loss: 0.399 | Gen:     orkingway       \n",
            "Epoch:  25 | Train loss: 0.361 | Val loss: 0.420 | Gen: etay airairairairairairai ondiondiondiondiondi isway orkingway\n",
            "Epoch:  26 | Train loss: 0.361 | Val loss: 0.422 | Gen: ethy airwiirwirwwirwirrwi  isway orkingway\n",
            "Epoch:  27 | Train loss: 0.356 | Val loss: 0.405 | Gen: ethy airairairairairairai  isway orkingway\n",
            "Epoch:  28 | Train loss: 0.349 | Val loss: 0.410 | Gen: etay airairairairairairai ondiondiondiondiondi isway orkingway\n",
            "Epoch:  29 | Train loss: 0.353 | Val loss: 0.404 | Gen: ethay ayEOSay  isway orkingway\n",
            "Epoch:  30 | Train loss: 0.348 | Val loss: 0.412 | Gen: ethay airwirwwrrwwrrwwrwww  y orkingway\n",
            "Epoch:  31 | Train loss: 0.337 | Val loss: 0.393 | Gen: ethay airairairairairairai  isway orkingway\n",
            "Epoch:  32 | Train loss: 0.345 | Val loss: 0.409 | Gen:  airairairairairairaa  isway orkingway\n",
            "Epoch:  33 | Train loss: 0.337 | Val loss: 0.388 | Gen: ethay   isway       \n",
            "Epoch:  34 | Train loss: 0.337 | Val loss: 0.392 | Gen:  ay  k orkingway    \n",
            "Epoch:  35 | Train loss: 0.344 | Val loss: 0.401 | Gen:  ay  isway          \n",
            "Epoch:  36 | Train loss: 0.351 | Val loss: 0.402 | Gen:  ay  isway          \n",
            "Epoch:  37 | Train loss: 0.345 | Val loss: 0.402 | Gen: ethay ay  isway     \n",
            "Epoch:  38 | Train loss: 0.336 | Val loss: 0.391 | Gen:    isway            \n",
            "Epoch:  39 | Train loss: 0.345 | Val loss: 0.396 | Gen: ethay ay  isway orkingway\n",
            "Epoch:  40 | Train loss: 0.332 | Val loss: 0.395 | Gen: ethay ay  isway orkingway\n",
            "Epoch:  41 | Train loss: 0.337 | Val loss: 0.385 | Gen:  ay  isway y        \n",
            "Epoch:  42 | Train loss: 0.324 | Val loss: 0.386 | Gen:  ay  isway orkingway\n",
            "Epoch:  43 | Train loss: 0.337 | Val loss: 0.393 | Gen:  ay  isway orkiny   \n",
            "Epoch:  44 | Train loss: 0.335 | Val loss: 0.392 | Gen:  ay  isway orkingway\n",
            "Epoch:  45 | Train loss: 0.331 | Val loss: 0.377 | Gen: ethay ay  isway orkiny\n",
            "Epoch:  46 | Train loss: 0.318 | Val loss: 0.373 | Gen:    isway orkingway  \n",
            "Epoch:  47 | Train loss: 0.314 | Val loss: 0.370 | Gen: ethay ay  isway orkiny\n",
            "Epoch:  48 | Train loss: 0.310 | Val loss: 0.377 | Gen: ethay   isway orkingway\n",
            "Epoch:  49 | Train loss: 0.317 | Val loss: 0.370 | Gen: ethay ay  isway orkiny\n",
            "Epoch:  50 | Train loss: 0.318 | Val loss: 0.377 | Gen: ethay   isway orkingway\n",
            "Epoch:  51 | Train loss: 0.322 | Val loss: 0.378 | Gen: ethay ay  isway orkiny\n",
            "Epoch:  52 | Train loss: 0.337 | Val loss: 0.380 | Gen: ethay ay  isway y   \n",
            "Epoch:  53 | Train loss: 0.318 | Val loss: 0.382 | Gen: ethay ay y isway y  \n",
            "Epoch:  54 | Train loss: 0.316 | Val loss: 0.376 | Gen: ethay ay  isway orkingway\n",
            "Epoch:  55 | Train loss: 0.315 | Val loss: 0.365 | Gen: ethay ay y isway y  \n",
            "Epoch:  56 | Train loss: 0.309 | Val loss: 0.362 | Gen: ethay   isway orkiny\n",
            "Epoch:  57 | Train loss: 0.309 | Val loss: 0.366 | Gen: ethay ay y isway y  \n",
            "Epoch:  58 | Train loss: 0.310 | Val loss: 0.366 | Gen: ethay ay  isway y   \n",
            "Epoch:  59 | Train loss: 0.308 | Val loss: 0.363 | Gen: ethay ay  isway oy  \n",
            "Epoch:  60 | Train loss: 0.311 | Val loss: 0.371 | Gen: ethay airwairwairwairwairw  isway y\n",
            "Epoch:  61 | Train loss: 0.317 | Val loss: 0.361 | Gen: ethay airairairairairairai  isway y\n",
            "Epoch:  62 | Train loss: 0.309 | Val loss: 0.365 | Gen: ethay ay  isway     \n",
            "Epoch:  63 | Train loss: 0.304 | Val loss: 0.360 | Gen: ethay airairairairairairai  isway orkiny\n",
            "Epoch:  64 | Train loss: 0.303 | Val loss: 0.367 | Gen: ethay ay  isway     \n",
            "Epoch:  65 | Train loss: 0.306 | Val loss: 0.367 | Gen: ethay ay  isway     \n",
            "Epoch:  66 | Train loss: 0.305 | Val loss: 0.366 | Gen: ethay ay  isway orkiny\n",
            "Epoch:  67 | Train loss: 0.306 | Val loss: 0.365 | Gen: ethay ay  isway y   \n",
            "Epoch:  68 | Train loss: 0.306 | Val loss: 0.372 | Gen: ethay ayEOSway  isway orkiny\n",
            "Epoch:  69 | Train loss: 0.307 | Val loss: 0.360 | Gen: ethay ay  isway y   \n",
            "Epoch:  70 | Train loss: 0.311 | Val loss: 0.368 | Gen: ethay ay  isway     \n",
            "Epoch:  71 | Train loss: 0.304 | Val loss: 0.352 | Gen: ethay ay  isway y   \n",
            "Epoch:  72 | Train loss: 0.303 | Val loss: 0.357 | Gen: ethay ay  isway orkiny\n",
            "Epoch:  73 | Train loss: 0.303 | Val loss: 0.355 | Gen: ethay ay  isway     \n",
            "Epoch:  74 | Train loss: 0.305 | Val loss: 0.363 | Gen:    isway            \n",
            "Epoch:  75 | Train loss: 0.304 | Val loss: 0.356 | Gen: ethay ay  isway     \n",
            "Epoch:  76 | Train loss: 0.297 | Val loss: 0.354 | Gen:    isway            \n",
            "Epoch:  77 | Train loss: 0.293 | Val loss: 0.356 | Gen: ethay ay  isway     \n",
            "Epoch:  78 | Train loss: 0.292 | Val loss: 0.352 | Gen: ethay   isway       \n",
            "Epoch:  79 | Train loss: 0.295 | Val loss: 0.357 | Gen: ethay   isway       \n",
            "Epoch:  80 | Train loss: 0.295 | Val loss: 0.350 | Gen: ethay ay  isway     \n",
            "Epoch:  81 | Train loss: 0.296 | Val loss: 0.352 | Gen: ethay   isway       \n",
            "Epoch:  82 | Train loss: 0.296 | Val loss: 0.349 | Gen: ethay   isway       \n",
            "Epoch:  83 | Train loss: 0.297 | Val loss: 0.355 | Gen:  ay  isway          \n",
            "Epoch:  84 | Train loss: 0.299 | Val loss: 0.353 | Gen: ethay ay  isway y   \n",
            "Epoch:  85 | Train loss: 0.299 | Val loss: 0.356 | Gen: ethay ayEOSaay  isway y\n",
            "Epoch:  86 | Train loss: 0.297 | Val loss: 0.347 | Gen: ethay ay  isway     \n",
            "Epoch:  87 | Train loss: 0.293 | Val loss: 0.349 | Gen: y ayEOSway  isway y \n",
            "Epoch:  88 | Train loss: 0.294 | Val loss: 0.346 | Gen:    isway            \n",
            "Epoch:  89 | Train loss: 0.294 | Val loss: 0.345 | Gen:  airwairwairwairwairw  isway y\n",
            "Epoch:  90 | Train loss: 0.295 | Val loss: 0.341 | Gen:    isway            \n",
            "Epoch:  91 | Train loss: 0.295 | Val loss: 0.357 | Gen: ethay ay  isway     \n",
            "Epoch:  92 | Train loss: 0.301 | Val loss: 0.341 | Gen: ethay ay  isway y   \n",
            "Epoch:  93 | Train loss: 0.293 | Val loss: 0.346 | Gen: ethay ay  isway     \n",
            "Epoch:  94 | Train loss: 0.295 | Val loss: 0.343 | Gen: ethay airairairairairairai  isway \n",
            "Epoch:  95 | Train loss: 0.292 | Val loss: 0.350 | Gen:    isway            \n",
            "Epoch:  96 | Train loss: 0.292 | Val loss: 0.346 | Gen: ethyy   isway       \n",
            "Epoch:  97 | Train loss: 0.286 | Val loss: 0.337 | Gen:    isway            \n",
            "Epoch:  98 | Train loss: 0.285 | Val loss: 0.344 | Gen: ethay ayEOSway  isway \n",
            "Epoch:  99 | Train loss: 0.287 | Val loss: 0.338 | Gen: ethyy ay  isway     \n",
            "source:\t\tthe air conditioning is working \n",
            "translated:\tethyy ay  isway \n"
          ],
          "name": "stdout"
        }
      ]
    },
    {
      "cell_type": "code",
      "metadata": {
        "id": "Q76ELY4oE2fg",
        "colab_type": "code",
        "colab": {
          "base_uri": "https://localhost:8080/",
          "height": 85
        },
        "outputId": "7f9d4191-ea15-421e-f7e1-7a32fa9e4562"
      },
      "source": [
        "TEST_SENTENCE = 'the air conditioning is working'\n",
        "translated = translate_sentence(TEST_SENTENCE, transformer_non_causal_encoder, transformer_non_causal_decoder, None, args)\n",
        "print(\"source:\\t\\t{} \\ntranslated:\\t{}\".format(TEST_SENTENCE, translated))\n",
        "\n",
        "TEST_SENTENCE = 'this string should be relatively difficult to explain to anthropologists'\n",
        "translated = translate_sentence(TEST_SENTENCE, transformer_non_causal_encoder, transformer_non_causal_decoder, None, args)\n",
        "print(\"source:\\t\\t{} \\ntranslated:\\t{}\".format(TEST_SENTENCE, translated))"
      ],
      "execution_count": 21,
      "outputs": [
        {
          "output_type": "stream",
          "text": [
            "source:\t\tthe air conditioning is working \n",
            "translated:\tethyy ay  isway \n",
            "source:\t\tthis string should be relatively difficult to explain to anthropologists \n",
            "translated:\ty     iculfdfyfiaulfdfyfif  explainwainwainwaiww  \n"
          ],
          "name": "stdout"
        }
      ]
    },
    {
      "cell_type": "markdown",
      "metadata": {
        "id": "qbfZCByITOI6",
        "colab_type": "text"
      },
      "source": [
        "# Attention visualization"
      ]
    },
    {
      "cell_type": "markdown",
      "metadata": {
        "id": "xBv4QQuBiU-V",
        "colab_type": "text"
      },
      "source": [
        "## Visualize RNN attention map"
      ]
    },
    {
      "cell_type": "code",
      "metadata": {
        "id": "aXvqoQYONMTA",
        "colab_type": "code",
        "colab": {
          "base_uri": "https://localhost:8080/",
          "height": 385
        },
        "outputId": "bc3aa8eb-26c4-45b0-8d50-9a5f59a13f75"
      },
      "source": [
        "TEST_WORD_ATTN = 'cake'\n",
        "visualize_attention(TEST_WORD_ATTN, rnn_attn_encoder, rnn_attn_decoder, None, args)\n",
        "translated = translate_sentence(TEST_WORD_ATTN, rnn_attn_encoder, rnn_attn_decoder, None, args)\n",
        "print(\"source:\\t\\t{} \\ntranslated:\\t{}\".format(TEST_WORD_ATTN, translated))"
      ],
      "execution_count": 22,
      "outputs": [
        {
          "output_type": "stream",
          "text": [
            "/usr/local/lib/python2.7/dist-packages/matplotlib/cbook/deprecation.py:107: MatplotlibDeprecationWarning: Passing one of 'on', 'true', 'off', 'false' as a boolean is deprecated; use an actual boolean (True/False) instead.\n",
            "  warnings.warn(message, mplDeprecation, stacklevel=1)\n"
          ],
          "name": "stderr"
        },
        {
          "output_type": "display_data",
          "data": {
            "image/png": "[encoded data removed]",
            "text/plain": [
              "<Figure size 432x288 with 2 Axes>"
            ]
          },
          "metadata": {
            "tags": []
          }
        },
        {
          "output_type": "stream",
          "text": [
            "source:\t\tcake \n",
            "translated:\takecay\n"
          ],
          "name": "stdout"
        }
      ]
    },
    {
      "cell_type": "code",
      "metadata": {
        "id": "XUFHC0ITRZTp",
        "colab_type": "code",
        "colab": {
          "base_uri": "https://localhost:8080/",
          "height": 329
        },
        "outputId": "3fe40a3b-8516-4c62-cb86-e43fd47fbc9c"
      },
      "source": [
        "TEST_WORD_ATTN = 'well-mannered'\n",
        "visualize_attention(TEST_WORD_ATTN, rnn_attn_encoder, rnn_attn_decoder, None, args)\n",
        "translated = translate_sentence(TEST_WORD_ATTN, rnn_attn_encoder, rnn_attn_decoder, None, args)\n",
        "print(\"source:\\t\\t{} \\ntranslated:\\t{}\".format(TEST_WORD_ATTN, translated))"
      ],
      "execution_count": 23,
      "outputs": [
        {
          "output_type": "display_data",
          "data": {
            "image/png": "[encoded data removed]",
            "text/plain": [
              "<Figure size 432x288 with 2 Axes>"
            ]
          },
          "metadata": {
            "tags": []
          }
        },
        {
          "output_type": "stream",
          "text": [
            "source:\t\twell-mannered \n",
            "translated:\tellway-annermedmay\n"
          ],
          "name": "stdout"
        }
      ]
    },
    {
      "cell_type": "code",
      "metadata": {
        "id": "90W1bkgYTQP3",
        "colab_type": "code",
        "colab": {
          "base_uri": "https://localhost:8080/",
          "height": 340
        },
        "outputId": "5a3c7517-6309-4822-c05a-21c67a47f1bf"
      },
      "source": [
        "TEST_WORD_ATTN = 'string'\n",
        "visualize_attention(TEST_WORD_ATTN, rnn_attn_encoder, rnn_attn_decoder, None, args)\n",
        "translated = translate_sentence(TEST_WORD_ATTN, rnn_attn_encoder, rnn_attn_decoder, None, args)\n",
        "print(\"source:\\t\\t{} \\ntranslated:\\t{}\".format(TEST_WORD_ATTN, translated))"
      ],
      "execution_count": 24,
      "outputs": [
        {
          "output_type": "display_data",
          "data": {
            "image/png": "[encoded data removed]",
            "text/plain": [
              "<Figure size 432x288 with 2 Axes>"
            ]
          },
          "metadata": {
            "tags": []
          }
        },
        {
          "output_type": "stream",
          "text": [
            "source:\t\tstring \n",
            "translated:\tingstray\n"
          ],
          "name": "stdout"
        }
      ]
    },
    {
      "cell_type": "code",
      "metadata": {
        "id": "PSrYtTC5TkVw",
        "colab_type": "code",
        "colab": {
          "base_uri": "https://localhost:8080/",
          "height": 331
        },
        "outputId": "28e22964-5a5d-42b4-c793-fe8b41c89656"
      },
      "source": [
        "TEST_WORD_ATTN = 'anthropologists'\n",
        "visualize_attention(TEST_WORD_ATTN, rnn_attn_encoder, rnn_attn_decoder, None, args)\n",
        "translated = translate_sentence(TEST_WORD_ATTN, rnn_attn_encoder, rnn_attn_decoder, None, args)\n",
        "print(\"source:\\t\\t{} \\ntranslated:\\t{}\".format(TEST_WORD_ATTN, translated))"
      ],
      "execution_count": 29,
      "outputs": [
        {
          "output_type": "display_data",
          "data": {
            "image/png": "[encoded data removed]",
            "text/plain": [
              "<Figure size 432x288 with 2 Axes>"
            ]
          },
          "metadata": {
            "tags": []
          }
        },
        {
          "output_type": "stream",
          "text": [
            "source:\t\tanthropologists \n",
            "translated:\tanthropoogistsway\n"
          ],
          "name": "stdout"
        }
      ]
    },
    {
      "cell_type": "markdown",
      "metadata": {
        "id": "xuOvxfA1NMz3",
        "colab_type": "text"
      },
      "source": [
        "## Visualize transformer attention maps from all the transformer layers"
      ]
    },
    {
      "cell_type": "code",
      "metadata": {
        "id": "HSSB4wd8-M7g",
        "colab_type": "code",
        "colab": {
          "base_uri": "https://localhost:8080/",
          "height": 891
        },
        "outputId": "aaea57f2-d9e0-404b-dde7-d3a370ea35d0"
      },
      "source": [
        "TEST_WORD_ATTN = 'cake'\n",
        "visualize_attention(TEST_WORD_ATTN, transformer_encoder, transformer_decoder, None, args, )\n",
        "translated = translate_sentence(TEST_WORD_ATTN, transformer_encoder, transformer_decoder, None, args)\n",
        "print(\"source:\\t\\t{} \\ntranslated:\\t{}\".format(TEST_WORD_ATTN, translated))"
      ],
      "execution_count": 26,
      "outputs": [
        {
          "output_type": "display_data",
          "data": {
            "image/png": "[encoded data removed]",
            "text/plain": [
              "<Figure size 432x288 with 2 Axes>"
            ]
          },
          "metadata": {
            "tags": []
          }
        },
        {
          "output_type": "display_data",
          "data": {
            "image/png": "[encoded data removed]",
            "text/plain": [
              "<Figure size 432x288 with 2 Axes>"
            ]
          },
          "metadata": {
            "tags": []
          }
        },
        {
          "output_type": "display_data",
          "data": {
            "image/png": "[encoded data removed]",
            "text/plain": [
              "<Figure size 432x288 with 2 Axes>"
            ]
          },
          "metadata": {
            "tags": []
          }
        },
        {
          "output_type": "stream",
          "text": [
            "source:\t\tcake \n",
            "translated:\takecay\n"
          ],
          "name": "stdout"
        }
      ]
    },
    {
      "cell_type": "code",
      "metadata": {
        "id": "ZlUvD_tYealI",
        "colab_type": "code",
        "colab": {
          "base_uri": "https://localhost:8080/",
          "height": 891
        },
        "outputId": "071a7f68-cf31-4e62-8439-cd670bd96dfc"
      },
      "source": [
        "TEST_WORD_ATTN = 'anthropologists'\n",
        "visualize_attention(TEST_WORD_ATTN, transformer_encoder, transformer_decoder, None, args, )\n",
        "translated = translate_sentence(TEST_WORD_ATTN, transformer_encoder, transformer_decoder, None, args)\n",
        "print(\"source:\\t\\t{} \\ntranslated:\\t{}\".format(TEST_WORD_ATTN, translated))"
      ],
      "execution_count": 30,
      "outputs": [
        {
          "output_type": "display_data",
          "data": {
            "image/png": "[encoded data removed]",
            "text/plain": [
              "<Figure size 432x288 with 2 Axes>"
            ]
          },
          "metadata": {
            "tags": []
          }
        },
        {
          "output_type": "display_data",
          "data": {
            "image/png": "[encoded data removed]",
            "text/plain": [
              "<Figure size 432x288 with 2 Axes>"
            ]
          },
          "metadata": {
            "tags": []
          }
        },
        {
          "output_type": "display_data",
          "data": {
            "image/png": "[encoded data removed]",
            "text/plain": [
              "<Figure size 432x288 with 2 Axes>"
            ]
          },
          "metadata": {
            "tags": []
          }
        },
        {
          "output_type": "stream",
          "text": [
            "source:\t\tanthropologists \n",
            "translated:\tanthropogistsway\n"
          ],
          "name": "stdout"
        }
      ]
    }
  ]
}